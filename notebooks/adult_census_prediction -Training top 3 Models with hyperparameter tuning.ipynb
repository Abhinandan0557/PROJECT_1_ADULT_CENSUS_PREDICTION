{
 "cells": [
  {
   "cell_type": "markdown",
   "id": "d580689e",
   "metadata": {},
   "source": [
    "# Load basic libraries"
   ]
  },
  {
   "cell_type": "code",
   "execution_count": 89,
   "id": "5a531d00",
   "metadata": {},
   "outputs": [],
   "source": [
    "import pandas as pd\n",
    "import numpy as np\n",
    "import matplotlib.pyplot as plt\n",
    "import seaborn as sns\n",
    "import plotly.express as px\n",
    "import missingno as ms"
   ]
  },
  {
   "cell_type": "code",
   "execution_count": 90,
   "id": "1f686138",
   "metadata": {},
   "outputs": [],
   "source": [
    "#import warnings\n",
    "#warnings.filterwarnings('ignore')"
   ]
  },
  {
   "cell_type": "raw",
   "id": "df1d05c8",
   "metadata": {},
   "source": [
    "Details of the Dataset\n",
    "The dataset contains a mix of categorical and numeric type data.\n",
    "\n",
    "Categorical Attributes\n",
    "\n",
    "workclass: Private, Self-emp-not-inc, Self-emp-inc, Federal-gov, Local-gov, State-gov, Without-pay, Never-worked.Individual work category\n",
    "\n",
    "education: Bachelors, Some-college, 11th, HS-grad, Prof-school, Assoc-acdm, Assoc-voc, 9th, 7th-8th, 12th, Masters, 1st-4th, 10th, Doctorate, 5th-6th, Preschool.\n",
    "Individual’s highest education degree\n",
    "\n",
    "marital-status: Married-civ-spouse, Divorced, Never-married, Separated, Widowed, Married-spouse-absent, Married-AF-spouse.\n",
    "Individual marital status\n",
    "\n",
    "occupation: Tech-support, Craft-repair, Other-service, Sales, Exec-managerial, Prof-specialty, Handlers-cleaners, Machine-op-inspect, Adm-clerical, Farming-fishing, Transport-moving, Priv-house-serv, Protective-serv, Armed-Forces.Individual’s occupation\n",
    "\n",
    "relationship: Wife, Own-child, Husband, Not-in-family, Other-relative, Unmarried.Individual’s relation in a family\n",
    "\n",
    "race: White, Asian-Pac-Islander, Amer-Indian-Eskimo, Other, Black.Race of Individual\n",
    "\n",
    "sex: Female, Male.\n",
    "\n",
    "native-country: United-States, Cambodia, England, Puerto-Rico, Canada, Germany, Outlying-US(Guam-USVI-etc), India, Japan, Greece, South, China, Cuba, Iran, Honduras, Philippines, Italy, Poland, Jamaica, Vietnam, Mexico, Portugal, Ireland, France, Dominican-Republic, Laos, Ecuador, Taiwan, Haiti, Columbia, Hungary, Guatemala, Nicaragua, Scotland, Thailand, Yugoslavia, El-Salvador, Trinidad Tobago, Peru, Hong, Holland-Netherlands.\n",
    "Individual’s native country\n",
    "Continuous Attributes\n",
    "\n",
    "age: continuous.Age of an individual\n",
    "\n",
    "fnlwgt: final weight, continuous.The weights on the CPS files are controlled to independent estimates of the civilian noninstitutional population of the US. These are prepared monthly for us by Population Division here at the Census Bureau.\n",
    "\n",
    "capital-gain: continuous.\n",
    "\n",
    "capital-loss: continuous.\n",
    "\n",
    "hours-per-week: continuous.Individual’s working hour per week"
   ]
  },
  {
   "cell_type": "markdown",
   "id": "e39cc5b1",
   "metadata": {},
   "source": [
    "# Load the data"
   ]
  },
  {
   "cell_type": "code",
   "execution_count": 91,
   "id": "6b0c0d8b",
   "metadata": {},
   "outputs": [
    {
     "data": {
      "text/html": [
       "<div>\n",
       "<style scoped>\n",
       "    .dataframe tbody tr th:only-of-type {\n",
       "        vertical-align: middle;\n",
       "    }\n",
       "\n",
       "    .dataframe tbody tr th {\n",
       "        vertical-align: top;\n",
       "    }\n",
       "\n",
       "    .dataframe thead th {\n",
       "        text-align: right;\n",
       "    }\n",
       "</style>\n",
       "<table border=\"1\" class=\"dataframe\">\n",
       "  <thead>\n",
       "    <tr style=\"text-align: right;\">\n",
       "      <th></th>\n",
       "      <th>Unnamed: 0</th>\n",
       "      <th>age</th>\n",
       "      <th>workclass</th>\n",
       "      <th>fnlwgt</th>\n",
       "      <th>education</th>\n",
       "      <th>education-num</th>\n",
       "      <th>marital-status</th>\n",
       "      <th>occupation</th>\n",
       "      <th>relationship</th>\n",
       "      <th>race</th>\n",
       "      <th>sex</th>\n",
       "      <th>hours-per-week</th>\n",
       "      <th>country</th>\n",
       "      <th>salary</th>\n",
       "    </tr>\n",
       "  </thead>\n",
       "  <tbody>\n",
       "    <tr>\n",
       "      <th>0</th>\n",
       "      <td>12303</td>\n",
       "      <td>32.0</td>\n",
       "      <td>Private</td>\n",
       "      <td>196342.0</td>\n",
       "      <td>doc</td>\n",
       "      <td>16.0</td>\n",
       "      <td>not_married</td>\n",
       "      <td>Prof-specialty</td>\n",
       "      <td>Not-in-family</td>\n",
       "      <td>White</td>\n",
       "      <td>Male</td>\n",
       "      <td>40</td>\n",
       "      <td>United-States</td>\n",
       "      <td>&gt;50K</td>\n",
       "    </tr>\n",
       "    <tr>\n",
       "      <th>1</th>\n",
       "      <td>28040</td>\n",
       "      <td>61.0</td>\n",
       "      <td>Private</td>\n",
       "      <td>232808.0</td>\n",
       "      <td>school</td>\n",
       "      <td>6.0</td>\n",
       "      <td>other</td>\n",
       "      <td>Other-service</td>\n",
       "      <td>Not-in-family</td>\n",
       "      <td>White</td>\n",
       "      <td>Male</td>\n",
       "      <td>24</td>\n",
       "      <td>United-States</td>\n",
       "      <td>&lt;=50K</td>\n",
       "    </tr>\n",
       "    <tr>\n",
       "      <th>2</th>\n",
       "      <td>11921</td>\n",
       "      <td>38.0</td>\n",
       "      <td>Private</td>\n",
       "      <td>205493.0</td>\n",
       "      <td>high school</td>\n",
       "      <td>9.0</td>\n",
       "      <td>married</td>\n",
       "      <td>Exec-managerial</td>\n",
       "      <td>Wife</td>\n",
       "      <td>White</td>\n",
       "      <td>Female</td>\n",
       "      <td>60</td>\n",
       "      <td>United-States</td>\n",
       "      <td>&gt;50K</td>\n",
       "    </tr>\n",
       "    <tr>\n",
       "      <th>3</th>\n",
       "      <td>18797</td>\n",
       "      <td>46.0</td>\n",
       "      <td>Private</td>\n",
       "      <td>45363.0</td>\n",
       "      <td>higher</td>\n",
       "      <td>15.0</td>\n",
       "      <td>other</td>\n",
       "      <td>Prof-specialty</td>\n",
       "      <td>Not-in-family</td>\n",
       "      <td>White</td>\n",
       "      <td>Male</td>\n",
       "      <td>40</td>\n",
       "      <td>United-States</td>\n",
       "      <td>&gt;50K</td>\n",
       "    </tr>\n",
       "    <tr>\n",
       "      <th>4</th>\n",
       "      <td>17424</td>\n",
       "      <td>44.0</td>\n",
       "      <td>Private</td>\n",
       "      <td>244974.0</td>\n",
       "      <td>high school</td>\n",
       "      <td>9.0</td>\n",
       "      <td>married</td>\n",
       "      <td>Sales</td>\n",
       "      <td>Husband</td>\n",
       "      <td>White</td>\n",
       "      <td>Male</td>\n",
       "      <td>60</td>\n",
       "      <td>United-States</td>\n",
       "      <td>&lt;=50K</td>\n",
       "    </tr>\n",
       "    <tr>\n",
       "      <th>5</th>\n",
       "      <td>10761</td>\n",
       "      <td>33.0</td>\n",
       "      <td>Private</td>\n",
       "      <td>191385.0</td>\n",
       "      <td>undergrad</td>\n",
       "      <td>13.0</td>\n",
       "      <td>not_married</td>\n",
       "      <td>Prof-specialty</td>\n",
       "      <td>Not-in-family</td>\n",
       "      <td>White</td>\n",
       "      <td>Male</td>\n",
       "      <td>40</td>\n",
       "      <td>Canada</td>\n",
       "      <td>&lt;=50K</td>\n",
       "    </tr>\n",
       "    <tr>\n",
       "      <th>6</th>\n",
       "      <td>30205</td>\n",
       "      <td>38.0</td>\n",
       "      <td>Private</td>\n",
       "      <td>187870.0</td>\n",
       "      <td>higher</td>\n",
       "      <td>15.0</td>\n",
       "      <td>married</td>\n",
       "      <td>Prof-specialty</td>\n",
       "      <td>Husband</td>\n",
       "      <td>White</td>\n",
       "      <td>Male</td>\n",
       "      <td>90</td>\n",
       "      <td>United-States</td>\n",
       "      <td>&gt;50K</td>\n",
       "    </tr>\n",
       "    <tr>\n",
       "      <th>7</th>\n",
       "      <td>23822</td>\n",
       "      <td>20.0</td>\n",
       "      <td>Private</td>\n",
       "      <td>66695.0</td>\n",
       "      <td>higher</td>\n",
       "      <td>10.0</td>\n",
       "      <td>not_married</td>\n",
       "      <td>Prof-specialty</td>\n",
       "      <td>Own-child</td>\n",
       "      <td>Other</td>\n",
       "      <td>Female</td>\n",
       "      <td>35</td>\n",
       "      <td>United-States</td>\n",
       "      <td>&lt;=50K</td>\n",
       "    </tr>\n",
       "    <tr>\n",
       "      <th>8</th>\n",
       "      <td>11440</td>\n",
       "      <td>67.0</td>\n",
       "      <td>Private</td>\n",
       "      <td>174603.0</td>\n",
       "      <td>high school</td>\n",
       "      <td>9.0</td>\n",
       "      <td>not_married</td>\n",
       "      <td>Exec-managerial</td>\n",
       "      <td>Not-in-family</td>\n",
       "      <td>White</td>\n",
       "      <td>Female</td>\n",
       "      <td>35</td>\n",
       "      <td>United-States</td>\n",
       "      <td>&lt;=50K</td>\n",
       "    </tr>\n",
       "    <tr>\n",
       "      <th>9</th>\n",
       "      <td>13125</td>\n",
       "      <td>66.0</td>\n",
       "      <td>Private</td>\n",
       "      <td>142624.0</td>\n",
       "      <td>higher</td>\n",
       "      <td>12.0</td>\n",
       "      <td>married</td>\n",
       "      <td>Machine-op-inspct</td>\n",
       "      <td>Husband</td>\n",
       "      <td>White</td>\n",
       "      <td>Male</td>\n",
       "      <td>40</td>\n",
       "      <td>Yugoslavia</td>\n",
       "      <td>&gt;50K</td>\n",
       "    </tr>\n",
       "    <tr>\n",
       "      <th>10</th>\n",
       "      <td>8772</td>\n",
       "      <td>39.0</td>\n",
       "      <td>Private</td>\n",
       "      <td>114678.0</td>\n",
       "      <td>high school</td>\n",
       "      <td>9.0</td>\n",
       "      <td>other</td>\n",
       "      <td>Other-service</td>\n",
       "      <td>Unmarried</td>\n",
       "      <td>Black</td>\n",
       "      <td>Female</td>\n",
       "      <td>40</td>\n",
       "      <td>United-States</td>\n",
       "      <td>&lt;=50K</td>\n",
       "    </tr>\n",
       "    <tr>\n",
       "      <th>11</th>\n",
       "      <td>9109</td>\n",
       "      <td>27.0</td>\n",
       "      <td>State-gov</td>\n",
       "      <td>176727.0</td>\n",
       "      <td>undergrad</td>\n",
       "      <td>13.0</td>\n",
       "      <td>not_married</td>\n",
       "      <td>Prof-specialty</td>\n",
       "      <td>Not-in-family</td>\n",
       "      <td>White</td>\n",
       "      <td>Male</td>\n",
       "      <td>40</td>\n",
       "      <td>United-States</td>\n",
       "      <td>&lt;=50K</td>\n",
       "    </tr>\n",
       "    <tr>\n",
       "      <th>12</th>\n",
       "      <td>1704</td>\n",
       "      <td>22.0</td>\n",
       "      <td>Private</td>\n",
       "      <td>376277.0</td>\n",
       "      <td>higher</td>\n",
       "      <td>10.0</td>\n",
       "      <td>other</td>\n",
       "      <td>Prof-specialty</td>\n",
       "      <td>Not-in-family</td>\n",
       "      <td>White</td>\n",
       "      <td>Female</td>\n",
       "      <td>35</td>\n",
       "      <td>United-States</td>\n",
       "      <td>&lt;=50K</td>\n",
       "    </tr>\n",
       "    <tr>\n",
       "      <th>13</th>\n",
       "      <td>8571</td>\n",
       "      <td>42.0</td>\n",
       "      <td>Private</td>\n",
       "      <td>113770.0</td>\n",
       "      <td>high school</td>\n",
       "      <td>9.0</td>\n",
       "      <td>married</td>\n",
       "      <td>Adm-clerical</td>\n",
       "      <td>Wife</td>\n",
       "      <td>White</td>\n",
       "      <td>Female</td>\n",
       "      <td>40</td>\n",
       "      <td>United-States</td>\n",
       "      <td>&lt;=50K</td>\n",
       "    </tr>\n",
       "    <tr>\n",
       "      <th>14</th>\n",
       "      <td>7736</td>\n",
       "      <td>35.0</td>\n",
       "      <td>Private</td>\n",
       "      <td>242094.0</td>\n",
       "      <td>high school</td>\n",
       "      <td>9.0</td>\n",
       "      <td>married</td>\n",
       "      <td>Other-service</td>\n",
       "      <td>Other-relative</td>\n",
       "      <td>Black</td>\n",
       "      <td>Male</td>\n",
       "      <td>40</td>\n",
       "      <td>United-States</td>\n",
       "      <td>&lt;=50K</td>\n",
       "    </tr>\n",
       "    <tr>\n",
       "      <th>15</th>\n",
       "      <td>30644</td>\n",
       "      <td>37.0</td>\n",
       "      <td>Private</td>\n",
       "      <td>99357.0</td>\n",
       "      <td>higher</td>\n",
       "      <td>12.0</td>\n",
       "      <td>not_married</td>\n",
       "      <td>Other-service</td>\n",
       "      <td>Not-in-family</td>\n",
       "      <td>White</td>\n",
       "      <td>Female</td>\n",
       "      <td>30</td>\n",
       "      <td>United-States</td>\n",
       "      <td>&lt;=50K</td>\n",
       "    </tr>\n",
       "    <tr>\n",
       "      <th>16</th>\n",
       "      <td>7933</td>\n",
       "      <td>40.0</td>\n",
       "      <td>Private</td>\n",
       "      <td>136244.0</td>\n",
       "      <td>higher</td>\n",
       "      <td>10.0</td>\n",
       "      <td>married</td>\n",
       "      <td>Adm-clerical</td>\n",
       "      <td>Wife</td>\n",
       "      <td>White</td>\n",
       "      <td>Female</td>\n",
       "      <td>40</td>\n",
       "      <td>United-States</td>\n",
       "      <td>&lt;=50K</td>\n",
       "    </tr>\n",
       "    <tr>\n",
       "      <th>17</th>\n",
       "      <td>26365</td>\n",
       "      <td>47.0</td>\n",
       "      <td>Private</td>\n",
       "      <td>34248.0</td>\n",
       "      <td>higher</td>\n",
       "      <td>11.0</td>\n",
       "      <td>married</td>\n",
       "      <td>Sales</td>\n",
       "      <td>Husband</td>\n",
       "      <td>White</td>\n",
       "      <td>Male</td>\n",
       "      <td>40</td>\n",
       "      <td>United-States</td>\n",
       "      <td>&gt;50K</td>\n",
       "    </tr>\n",
       "    <tr>\n",
       "      <th>18</th>\n",
       "      <td>29827</td>\n",
       "      <td>40.0</td>\n",
       "      <td>Private</td>\n",
       "      <td>175398.0</td>\n",
       "      <td>higher</td>\n",
       "      <td>11.0</td>\n",
       "      <td>other</td>\n",
       "      <td>Prof-specialty</td>\n",
       "      <td>Not-in-family</td>\n",
       "      <td>White</td>\n",
       "      <td>Female</td>\n",
       "      <td>20</td>\n",
       "      <td>United-States</td>\n",
       "      <td>&lt;=50K</td>\n",
       "    </tr>\n",
       "    <tr>\n",
       "      <th>19</th>\n",
       "      <td>2417</td>\n",
       "      <td>24.0</td>\n",
       "      <td>Private</td>\n",
       "      <td>127139.0</td>\n",
       "      <td>higher</td>\n",
       "      <td>10.0</td>\n",
       "      <td>not_married</td>\n",
       "      <td>Adm-clerical</td>\n",
       "      <td>Own-child</td>\n",
       "      <td>White</td>\n",
       "      <td>Female</td>\n",
       "      <td>40</td>\n",
       "      <td>United-States</td>\n",
       "      <td>&lt;=50K</td>\n",
       "    </tr>\n",
       "  </tbody>\n",
       "</table>\n",
       "</div>"
      ],
      "text/plain": [
       "    Unnamed: 0   age  workclass    fnlwgt    education  education-num  \\\n",
       "0        12303  32.0    Private  196342.0          doc           16.0   \n",
       "1        28040  61.0    Private  232808.0       school            6.0   \n",
       "2        11921  38.0    Private  205493.0  high school            9.0   \n",
       "3        18797  46.0    Private   45363.0       higher           15.0   \n",
       "4        17424  44.0    Private  244974.0  high school            9.0   \n",
       "5        10761  33.0    Private  191385.0    undergrad           13.0   \n",
       "6        30205  38.0    Private  187870.0       higher           15.0   \n",
       "7        23822  20.0    Private   66695.0       higher           10.0   \n",
       "8        11440  67.0    Private  174603.0  high school            9.0   \n",
       "9        13125  66.0    Private  142624.0       higher           12.0   \n",
       "10        8772  39.0    Private  114678.0  high school            9.0   \n",
       "11        9109  27.0  State-gov  176727.0    undergrad           13.0   \n",
       "12        1704  22.0    Private  376277.0       higher           10.0   \n",
       "13        8571  42.0    Private  113770.0  high school            9.0   \n",
       "14        7736  35.0    Private  242094.0  high school            9.0   \n",
       "15       30644  37.0    Private   99357.0       higher           12.0   \n",
       "16        7933  40.0    Private  136244.0       higher           10.0   \n",
       "17       26365  47.0    Private   34248.0       higher           11.0   \n",
       "18       29827  40.0    Private  175398.0       higher           11.0   \n",
       "19        2417  24.0    Private  127139.0       higher           10.0   \n",
       "\n",
       "   marital-status         occupation    relationship   race     sex  \\\n",
       "0     not_married     Prof-specialty   Not-in-family  White    Male   \n",
       "1           other      Other-service   Not-in-family  White    Male   \n",
       "2         married    Exec-managerial            Wife  White  Female   \n",
       "3           other     Prof-specialty   Not-in-family  White    Male   \n",
       "4         married              Sales         Husband  White    Male   \n",
       "5     not_married     Prof-specialty   Not-in-family  White    Male   \n",
       "6         married     Prof-specialty         Husband  White    Male   \n",
       "7     not_married     Prof-specialty       Own-child  Other  Female   \n",
       "8     not_married    Exec-managerial   Not-in-family  White  Female   \n",
       "9         married  Machine-op-inspct         Husband  White    Male   \n",
       "10          other      Other-service       Unmarried  Black  Female   \n",
       "11    not_married     Prof-specialty   Not-in-family  White    Male   \n",
       "12          other     Prof-specialty   Not-in-family  White  Female   \n",
       "13        married       Adm-clerical            Wife  White  Female   \n",
       "14        married      Other-service  Other-relative  Black    Male   \n",
       "15    not_married      Other-service   Not-in-family  White  Female   \n",
       "16        married       Adm-clerical            Wife  White  Female   \n",
       "17        married              Sales         Husband  White    Male   \n",
       "18          other     Prof-specialty   Not-in-family  White  Female   \n",
       "19    not_married       Adm-clerical       Own-child  White  Female   \n",
       "\n",
       "    hours-per-week        country salary  \n",
       "0               40  United-States   >50K  \n",
       "1               24  United-States  <=50K  \n",
       "2               60  United-States   >50K  \n",
       "3               40  United-States   >50K  \n",
       "4               60  United-States  <=50K  \n",
       "5               40         Canada  <=50K  \n",
       "6               90  United-States   >50K  \n",
       "7               35  United-States  <=50K  \n",
       "8               35  United-States  <=50K  \n",
       "9               40     Yugoslavia   >50K  \n",
       "10              40  United-States  <=50K  \n",
       "11              40  United-States  <=50K  \n",
       "12              35  United-States  <=50K  \n",
       "13              40  United-States  <=50K  \n",
       "14              40  United-States  <=50K  \n",
       "15              30  United-States  <=50K  \n",
       "16              40  United-States  <=50K  \n",
       "17              40  United-States   >50K  \n",
       "18              20  United-States  <=50K  \n",
       "19              40  United-States  <=50K  "
      ]
     },
     "execution_count": 91,
     "metadata": {},
     "output_type": "execute_result"
    }
   ],
   "source": [
    "df=pd.read_csv(r'C:\\Users\\ABHI\\INEURON\\PROJECTS\\ADULT CENSUS PREDICTION\\training_data_preprocessed.csv')\n",
    "df.head(20)"
   ]
  },
  {
   "cell_type": "code",
   "execution_count": 92,
   "id": "975cd9af",
   "metadata": {},
   "outputs": [
    {
     "data": {
      "text/plain": [
       "Index(['Unnamed: 0', 'age', 'workclass', 'fnlwgt', 'education',\n",
       "       'education-num', 'marital-status', 'occupation', 'relationship', 'race',\n",
       "       'sex', 'hours-per-week', 'country', 'salary'],\n",
       "      dtype='object')"
      ]
     },
     "execution_count": 92,
     "metadata": {},
     "output_type": "execute_result"
    }
   ],
   "source": [
    "df.columns"
   ]
  },
  {
   "cell_type": "code",
   "execution_count": 93,
   "id": "9aca66fd",
   "metadata": {},
   "outputs": [
    {
     "data": {
      "text/html": [
       "<div>\n",
       "<style scoped>\n",
       "    .dataframe tbody tr th:only-of-type {\n",
       "        vertical-align: middle;\n",
       "    }\n",
       "\n",
       "    .dataframe tbody tr th {\n",
       "        vertical-align: top;\n",
       "    }\n",
       "\n",
       "    .dataframe thead th {\n",
       "        text-align: right;\n",
       "    }\n",
       "</style>\n",
       "<table border=\"1\" class=\"dataframe\">\n",
       "  <thead>\n",
       "    <tr style=\"text-align: right;\">\n",
       "      <th></th>\n",
       "      <th>age</th>\n",
       "      <th>workclass</th>\n",
       "      <th>fnlwgt</th>\n",
       "      <th>education</th>\n",
       "      <th>education-num</th>\n",
       "      <th>marital-status</th>\n",
       "      <th>occupation</th>\n",
       "      <th>relationship</th>\n",
       "      <th>race</th>\n",
       "      <th>sex</th>\n",
       "      <th>hours-per-week</th>\n",
       "      <th>country</th>\n",
       "      <th>salary</th>\n",
       "    </tr>\n",
       "  </thead>\n",
       "  <tbody>\n",
       "    <tr>\n",
       "      <th>0</th>\n",
       "      <td>32.0</td>\n",
       "      <td>Private</td>\n",
       "      <td>196342.0</td>\n",
       "      <td>doc</td>\n",
       "      <td>16.0</td>\n",
       "      <td>not_married</td>\n",
       "      <td>Prof-specialty</td>\n",
       "      <td>Not-in-family</td>\n",
       "      <td>White</td>\n",
       "      <td>Male</td>\n",
       "      <td>40</td>\n",
       "      <td>United-States</td>\n",
       "      <td>&gt;50K</td>\n",
       "    </tr>\n",
       "    <tr>\n",
       "      <th>1</th>\n",
       "      <td>61.0</td>\n",
       "      <td>Private</td>\n",
       "      <td>232808.0</td>\n",
       "      <td>school</td>\n",
       "      <td>6.0</td>\n",
       "      <td>other</td>\n",
       "      <td>Other-service</td>\n",
       "      <td>Not-in-family</td>\n",
       "      <td>White</td>\n",
       "      <td>Male</td>\n",
       "      <td>24</td>\n",
       "      <td>United-States</td>\n",
       "      <td>&lt;=50K</td>\n",
       "    </tr>\n",
       "    <tr>\n",
       "      <th>2</th>\n",
       "      <td>38.0</td>\n",
       "      <td>Private</td>\n",
       "      <td>205493.0</td>\n",
       "      <td>high school</td>\n",
       "      <td>9.0</td>\n",
       "      <td>married</td>\n",
       "      <td>Exec-managerial</td>\n",
       "      <td>Wife</td>\n",
       "      <td>White</td>\n",
       "      <td>Female</td>\n",
       "      <td>60</td>\n",
       "      <td>United-States</td>\n",
       "      <td>&gt;50K</td>\n",
       "    </tr>\n",
       "    <tr>\n",
       "      <th>3</th>\n",
       "      <td>46.0</td>\n",
       "      <td>Private</td>\n",
       "      <td>45363.0</td>\n",
       "      <td>higher</td>\n",
       "      <td>15.0</td>\n",
       "      <td>other</td>\n",
       "      <td>Prof-specialty</td>\n",
       "      <td>Not-in-family</td>\n",
       "      <td>White</td>\n",
       "      <td>Male</td>\n",
       "      <td>40</td>\n",
       "      <td>United-States</td>\n",
       "      <td>&gt;50K</td>\n",
       "    </tr>\n",
       "    <tr>\n",
       "      <th>4</th>\n",
       "      <td>44.0</td>\n",
       "      <td>Private</td>\n",
       "      <td>244974.0</td>\n",
       "      <td>high school</td>\n",
       "      <td>9.0</td>\n",
       "      <td>married</td>\n",
       "      <td>Sales</td>\n",
       "      <td>Husband</td>\n",
       "      <td>White</td>\n",
       "      <td>Male</td>\n",
       "      <td>60</td>\n",
       "      <td>United-States</td>\n",
       "      <td>&lt;=50K</td>\n",
       "    </tr>\n",
       "  </tbody>\n",
       "</table>\n",
       "</div>"
      ],
      "text/plain": [
       "    age workclass    fnlwgt    education  education-num marital-status  \\\n",
       "0  32.0   Private  196342.0          doc           16.0    not_married   \n",
       "1  61.0   Private  232808.0       school            6.0          other   \n",
       "2  38.0   Private  205493.0  high school            9.0        married   \n",
       "3  46.0   Private   45363.0       higher           15.0          other   \n",
       "4  44.0   Private  244974.0  high school            9.0        married   \n",
       "\n",
       "        occupation   relationship   race     sex  hours-per-week  \\\n",
       "0   Prof-specialty  Not-in-family  White    Male              40   \n",
       "1    Other-service  Not-in-family  White    Male              24   \n",
       "2  Exec-managerial           Wife  White  Female              60   \n",
       "3   Prof-specialty  Not-in-family  White    Male              40   \n",
       "4            Sales        Husband  White    Male              60   \n",
       "\n",
       "         country salary  \n",
       "0  United-States   >50K  \n",
       "1  United-States  <=50K  \n",
       "2  United-States   >50K  \n",
       "3  United-States   >50K  \n",
       "4  United-States  <=50K  "
      ]
     },
     "execution_count": 93,
     "metadata": {},
     "output_type": "execute_result"
    }
   ],
   "source": [
    "df=df.drop('Unnamed: 0',axis=1)\n",
    "df.head(5)"
   ]
  },
  {
   "cell_type": "code",
   "execution_count": 94,
   "id": "49562256",
   "metadata": {},
   "outputs": [
    {
     "name": "stdout",
     "output_type": "stream",
     "text": [
      "<class 'pandas.core.frame.DataFrame'>\n",
      "RangeIndex: 26048 entries, 0 to 26047\n",
      "Data columns (total 13 columns):\n",
      " #   Column          Non-Null Count  Dtype  \n",
      "---  ------          --------------  -----  \n",
      " 0   age             26048 non-null  float64\n",
      " 1   workclass       26048 non-null  object \n",
      " 2   fnlwgt          26048 non-null  float64\n",
      " 3   education       26048 non-null  object \n",
      " 4   education-num   26048 non-null  float64\n",
      " 5   marital-status  26048 non-null  object \n",
      " 6   occupation      26048 non-null  object \n",
      " 7   relationship    26048 non-null  object \n",
      " 8   race            26048 non-null  object \n",
      " 9   sex             26048 non-null  object \n",
      " 10  hours-per-week  26048 non-null  int64  \n",
      " 11  country         26048 non-null  object \n",
      " 12  salary          26048 non-null  object \n",
      "dtypes: float64(3), int64(1), object(9)\n",
      "memory usage: 2.6+ MB\n"
     ]
    }
   ],
   "source": [
    "df.info()"
   ]
  },
  {
   "cell_type": "code",
   "execution_count": 95,
   "id": "dc106832",
   "metadata": {},
   "outputs": [
    {
     "data": {
      "text/plain": [
       "(26048, 13)"
      ]
     },
     "execution_count": 95,
     "metadata": {},
     "output_type": "execute_result"
    }
   ],
   "source": [
    "df.shape"
   ]
  },
  {
   "cell_type": "code",
   "execution_count": 96,
   "id": "17ac22de",
   "metadata": {},
   "outputs": [
    {
     "data": {
      "text/plain": [
       "<=50K    76.059582\n",
       ">50K     23.940418\n",
       "Name: salary, dtype: float64"
      ]
     },
     "execution_count": 96,
     "metadata": {},
     "output_type": "execute_result"
    }
   ],
   "source": [
    "df['salary'].value_counts(normalize = True)*100"
   ]
  },
  {
   "cell_type": "code",
   "execution_count": 97,
   "id": "8d451ad9",
   "metadata": {},
   "outputs": [
    {
     "data": {
      "image/png": "[encoded data removed]",
      "text/plain": [
       "<Figure size 640x480 with 1 Axes>"
      ]
     },
     "metadata": {},
     "output_type": "display_data"
    }
   ],
   "source": [
    "ax=sns.countplot(df['salary'])\n",
    "plt.xlabel(\"salary\", fontsize= 12)\n",
    "plt.ylabel(\"No. of People\", fontsize= 12)\n",
    "for p in ax.patches:\n",
    "    ax.annotate((p.get_height()), (p.get_x()+0.12, p.get_height()+100))"
   ]
  },
  {
   "cell_type": "markdown",
   "id": "56d0b6f4",
   "metadata": {},
   "source": [
    "### Here we can see that 76% people have income below 50k and remaining have income above 50k,so the data here is imbalance.we will consider this imbalance and train our top 3 Model."
   ]
  },
  {
   "cell_type": "markdown",
   "id": "34f019c6",
   "metadata": {},
   "source": [
    "### So we have imbalce data as we have <=50K with 19812 records and >50K class with 6236 records."
   ]
  },
  {
   "cell_type": "markdown",
   "id": "340f99f9",
   "metadata": {},
   "source": [
    "# Encoding feature from training set and test set"
   ]
  },
  {
   "cell_type": "code",
   "execution_count": null,
   "id": "3a1754d0",
   "metadata": {},
   "outputs": [],
   "source": []
  },
  {
   "cell_type": "code",
   "execution_count": 98,
   "id": "60678ee7",
   "metadata": {},
   "outputs": [
    {
     "data": {
      "text/html": [
       "<div>\n",
       "<style scoped>\n",
       "    .dataframe tbody tr th:only-of-type {\n",
       "        vertical-align: middle;\n",
       "    }\n",
       "\n",
       "    .dataframe tbody tr th {\n",
       "        vertical-align: top;\n",
       "    }\n",
       "\n",
       "    .dataframe thead th {\n",
       "        text-align: right;\n",
       "    }\n",
       "</style>\n",
       "<table border=\"1\" class=\"dataframe\">\n",
       "  <thead>\n",
       "    <tr style=\"text-align: right;\">\n",
       "      <th></th>\n",
       "      <th>Unnamed: 0</th>\n",
       "      <th>age</th>\n",
       "      <th>workclass</th>\n",
       "      <th>fnlwgt</th>\n",
       "      <th>education</th>\n",
       "      <th>education-num</th>\n",
       "      <th>marital-status</th>\n",
       "      <th>occupation</th>\n",
       "      <th>relationship</th>\n",
       "      <th>race</th>\n",
       "      <th>sex</th>\n",
       "      <th>hours-per-week</th>\n",
       "      <th>country</th>\n",
       "      <th>salary</th>\n",
       "    </tr>\n",
       "  </thead>\n",
       "  <tbody>\n",
       "    <tr>\n",
       "      <th>0</th>\n",
       "      <td>27144</td>\n",
       "      <td>27</td>\n",
       "      <td>Private</td>\n",
       "      <td>181284</td>\n",
       "      <td>school</td>\n",
       "      <td>8</td>\n",
       "      <td>married</td>\n",
       "      <td>Prof-specialty</td>\n",
       "      <td>Husband</td>\n",
       "      <td>Black</td>\n",
       "      <td>Male</td>\n",
       "      <td>45</td>\n",
       "      <td>United-States</td>\n",
       "      <td>&lt;=50K</td>\n",
       "    </tr>\n",
       "    <tr>\n",
       "      <th>1</th>\n",
       "      <td>11743</td>\n",
       "      <td>24</td>\n",
       "      <td>Private</td>\n",
       "      <td>235894</td>\n",
       "      <td>high school</td>\n",
       "      <td>9</td>\n",
       "      <td>married</td>\n",
       "      <td>Craft-repair</td>\n",
       "      <td>Husband</td>\n",
       "      <td>White</td>\n",
       "      <td>Male</td>\n",
       "      <td>38</td>\n",
       "      <td>United-States</td>\n",
       "      <td>&lt;=50K</td>\n",
       "    </tr>\n",
       "  </tbody>\n",
       "</table>\n",
       "</div>"
      ],
      "text/plain": [
       "   Unnamed: 0  age workclass  fnlwgt    education  education-num  \\\n",
       "0       27144   27   Private  181284       school              8   \n",
       "1       11743   24   Private  235894  high school              9   \n",
       "\n",
       "  marital-status      occupation relationship   race   sex  hours-per-week  \\\n",
       "0        married  Prof-specialty      Husband  Black  Male              45   \n",
       "1        married    Craft-repair      Husband  White  Male              38   \n",
       "\n",
       "         country salary  \n",
       "0  United-States  <=50K  \n",
       "1  United-States  <=50K  "
      ]
     },
     "execution_count": 98,
     "metadata": {},
     "output_type": "execute_result"
    }
   ],
   "source": [
    "test_set=pd.read_csv(r\"C:\\Users\\ABHI\\INEURON\\PROJECTS\\ADULT CENSUS PREDICTION\\test_set.csv\")\n",
    "test_set.head(2)"
   ]
  },
  {
   "cell_type": "code",
   "execution_count": 99,
   "id": "07bdcf4e",
   "metadata": {},
   "outputs": [
    {
     "data": {
      "text/html": [
       "<div>\n",
       "<style scoped>\n",
       "    .dataframe tbody tr th:only-of-type {\n",
       "        vertical-align: middle;\n",
       "    }\n",
       "\n",
       "    .dataframe tbody tr th {\n",
       "        vertical-align: top;\n",
       "    }\n",
       "\n",
       "    .dataframe thead th {\n",
       "        text-align: right;\n",
       "    }\n",
       "</style>\n",
       "<table border=\"1\" class=\"dataframe\">\n",
       "  <thead>\n",
       "    <tr style=\"text-align: right;\">\n",
       "      <th></th>\n",
       "      <th>age</th>\n",
       "      <th>workclass</th>\n",
       "      <th>fnlwgt</th>\n",
       "      <th>education</th>\n",
       "      <th>education-num</th>\n",
       "      <th>marital-status</th>\n",
       "      <th>occupation</th>\n",
       "      <th>relationship</th>\n",
       "      <th>race</th>\n",
       "      <th>sex</th>\n",
       "      <th>hours-per-week</th>\n",
       "      <th>country</th>\n",
       "      <th>salary</th>\n",
       "    </tr>\n",
       "  </thead>\n",
       "  <tbody>\n",
       "    <tr>\n",
       "      <th>0</th>\n",
       "      <td>27</td>\n",
       "      <td>Private</td>\n",
       "      <td>181284</td>\n",
       "      <td>school</td>\n",
       "      <td>8</td>\n",
       "      <td>married</td>\n",
       "      <td>Prof-specialty</td>\n",
       "      <td>Husband</td>\n",
       "      <td>Black</td>\n",
       "      <td>Male</td>\n",
       "      <td>45</td>\n",
       "      <td>United-States</td>\n",
       "      <td>&lt;=50K</td>\n",
       "    </tr>\n",
       "    <tr>\n",
       "      <th>1</th>\n",
       "      <td>24</td>\n",
       "      <td>Private</td>\n",
       "      <td>235894</td>\n",
       "      <td>high school</td>\n",
       "      <td>9</td>\n",
       "      <td>married</td>\n",
       "      <td>Craft-repair</td>\n",
       "      <td>Husband</td>\n",
       "      <td>White</td>\n",
       "      <td>Male</td>\n",
       "      <td>38</td>\n",
       "      <td>United-States</td>\n",
       "      <td>&lt;=50K</td>\n",
       "    </tr>\n",
       "  </tbody>\n",
       "</table>\n",
       "</div>"
      ],
      "text/plain": [
       "   age workclass  fnlwgt    education  education-num marital-status  \\\n",
       "0   27   Private  181284       school              8        married   \n",
       "1   24   Private  235894  high school              9        married   \n",
       "\n",
       "       occupation relationship   race   sex  hours-per-week        country  \\\n",
       "0  Prof-specialty      Husband  Black  Male              45  United-States   \n",
       "1    Craft-repair      Husband  White  Male              38  United-States   \n",
       "\n",
       "  salary  \n",
       "0  <=50K  \n",
       "1  <=50K  "
      ]
     },
     "execution_count": 99,
     "metadata": {},
     "output_type": "execute_result"
    }
   ],
   "source": [
    "test_set=test_set.drop('Unnamed: 0',axis=1)\n",
    "test_set.head(2)"
   ]
  },
  {
   "cell_type": "code",
   "execution_count": 100,
   "id": "6f83d929",
   "metadata": {},
   "outputs": [],
   "source": [
    "train_set_encoded=df.copy()\n",
    "test_set_encoded=test_set.copy()"
   ]
  },
  {
   "cell_type": "code",
   "execution_count": 101,
   "id": "5b900431",
   "metadata": {},
   "outputs": [],
   "source": [
    "from sklearn.preprocessing import LabelEncoder\n",
    "le = LabelEncoder()"
   ]
  },
  {
   "cell_type": "code",
   "execution_count": 102,
   "id": "6297ece8",
   "metadata": {},
   "outputs": [],
   "source": [
    "for col in df.columns:    \n",
    "    if df[col].dtypes == 'object':\n",
    "        le.fit(df[col])\n",
    "        train_set_encoded[col]=le.transform(train_set_encoded[col].astype(str))\n",
    "        test_set_encoded[col]=le.transform(test_set_encoded[col].astype(str))      "
   ]
  },
  {
   "cell_type": "code",
   "execution_count": 103,
   "id": "2e368dd4",
   "metadata": {},
   "outputs": [
    {
     "data": {
      "text/html": [
       "<div>\n",
       "<style scoped>\n",
       "    .dataframe tbody tr th:only-of-type {\n",
       "        vertical-align: middle;\n",
       "    }\n",
       "\n",
       "    .dataframe tbody tr th {\n",
       "        vertical-align: top;\n",
       "    }\n",
       "\n",
       "    .dataframe thead th {\n",
       "        text-align: right;\n",
       "    }\n",
       "</style>\n",
       "<table border=\"1\" class=\"dataframe\">\n",
       "  <thead>\n",
       "    <tr style=\"text-align: right;\">\n",
       "      <th></th>\n",
       "      <th>age</th>\n",
       "      <th>workclass</th>\n",
       "      <th>fnlwgt</th>\n",
       "      <th>education</th>\n",
       "      <th>education-num</th>\n",
       "      <th>marital-status</th>\n",
       "      <th>occupation</th>\n",
       "      <th>relationship</th>\n",
       "      <th>race</th>\n",
       "      <th>sex</th>\n",
       "      <th>hours-per-week</th>\n",
       "      <th>country</th>\n",
       "      <th>salary</th>\n",
       "    </tr>\n",
       "  </thead>\n",
       "  <tbody>\n",
       "    <tr>\n",
       "      <th>0</th>\n",
       "      <td>32.0</td>\n",
       "      <td>3</td>\n",
       "      <td>196342.0</td>\n",
       "      <td>0</td>\n",
       "      <td>16.0</td>\n",
       "      <td>1</td>\n",
       "      <td>9</td>\n",
       "      <td>1</td>\n",
       "      <td>4</td>\n",
       "      <td>1</td>\n",
       "      <td>40</td>\n",
       "      <td>38</td>\n",
       "      <td>1</td>\n",
       "    </tr>\n",
       "    <tr>\n",
       "      <th>1</th>\n",
       "      <td>61.0</td>\n",
       "      <td>3</td>\n",
       "      <td>232808.0</td>\n",
       "      <td>4</td>\n",
       "      <td>6.0</td>\n",
       "      <td>2</td>\n",
       "      <td>7</td>\n",
       "      <td>1</td>\n",
       "      <td>4</td>\n",
       "      <td>1</td>\n",
       "      <td>24</td>\n",
       "      <td>38</td>\n",
       "      <td>0</td>\n",
       "    </tr>\n",
       "    <tr>\n",
       "      <th>2</th>\n",
       "      <td>38.0</td>\n",
       "      <td>3</td>\n",
       "      <td>205493.0</td>\n",
       "      <td>2</td>\n",
       "      <td>9.0</td>\n",
       "      <td>0</td>\n",
       "      <td>3</td>\n",
       "      <td>5</td>\n",
       "      <td>4</td>\n",
       "      <td>0</td>\n",
       "      <td>60</td>\n",
       "      <td>38</td>\n",
       "      <td>1</td>\n",
       "    </tr>\n",
       "    <tr>\n",
       "      <th>3</th>\n",
       "      <td>46.0</td>\n",
       "      <td>3</td>\n",
       "      <td>45363.0</td>\n",
       "      <td>3</td>\n",
       "      <td>15.0</td>\n",
       "      <td>2</td>\n",
       "      <td>9</td>\n",
       "      <td>1</td>\n",
       "      <td>4</td>\n",
       "      <td>1</td>\n",
       "      <td>40</td>\n",
       "      <td>38</td>\n",
       "      <td>1</td>\n",
       "    </tr>\n",
       "    <tr>\n",
       "      <th>4</th>\n",
       "      <td>44.0</td>\n",
       "      <td>3</td>\n",
       "      <td>244974.0</td>\n",
       "      <td>2</td>\n",
       "      <td>9.0</td>\n",
       "      <td>0</td>\n",
       "      <td>11</td>\n",
       "      <td>0</td>\n",
       "      <td>4</td>\n",
       "      <td>1</td>\n",
       "      <td>60</td>\n",
       "      <td>38</td>\n",
       "      <td>0</td>\n",
       "    </tr>\n",
       "    <tr>\n",
       "      <th>5</th>\n",
       "      <td>33.0</td>\n",
       "      <td>3</td>\n",
       "      <td>191385.0</td>\n",
       "      <td>5</td>\n",
       "      <td>13.0</td>\n",
       "      <td>1</td>\n",
       "      <td>9</td>\n",
       "      <td>1</td>\n",
       "      <td>4</td>\n",
       "      <td>1</td>\n",
       "      <td>40</td>\n",
       "      <td>1</td>\n",
       "      <td>0</td>\n",
       "    </tr>\n",
       "    <tr>\n",
       "      <th>6</th>\n",
       "      <td>38.0</td>\n",
       "      <td>3</td>\n",
       "      <td>187870.0</td>\n",
       "      <td>3</td>\n",
       "      <td>15.0</td>\n",
       "      <td>0</td>\n",
       "      <td>9</td>\n",
       "      <td>0</td>\n",
       "      <td>4</td>\n",
       "      <td>1</td>\n",
       "      <td>90</td>\n",
       "      <td>38</td>\n",
       "      <td>1</td>\n",
       "    </tr>\n",
       "    <tr>\n",
       "      <th>7</th>\n",
       "      <td>20.0</td>\n",
       "      <td>3</td>\n",
       "      <td>66695.0</td>\n",
       "      <td>3</td>\n",
       "      <td>10.0</td>\n",
       "      <td>1</td>\n",
       "      <td>9</td>\n",
       "      <td>3</td>\n",
       "      <td>3</td>\n",
       "      <td>0</td>\n",
       "      <td>35</td>\n",
       "      <td>38</td>\n",
       "      <td>0</td>\n",
       "    </tr>\n",
       "    <tr>\n",
       "      <th>8</th>\n",
       "      <td>67.0</td>\n",
       "      <td>3</td>\n",
       "      <td>174603.0</td>\n",
       "      <td>2</td>\n",
       "      <td>9.0</td>\n",
       "      <td>1</td>\n",
       "      <td>3</td>\n",
       "      <td>1</td>\n",
       "      <td>4</td>\n",
       "      <td>0</td>\n",
       "      <td>35</td>\n",
       "      <td>38</td>\n",
       "      <td>0</td>\n",
       "    </tr>\n",
       "    <tr>\n",
       "      <th>9</th>\n",
       "      <td>66.0</td>\n",
       "      <td>3</td>\n",
       "      <td>142624.0</td>\n",
       "      <td>3</td>\n",
       "      <td>12.0</td>\n",
       "      <td>0</td>\n",
       "      <td>6</td>\n",
       "      <td>0</td>\n",
       "      <td>4</td>\n",
       "      <td>1</td>\n",
       "      <td>40</td>\n",
       "      <td>40</td>\n",
       "      <td>1</td>\n",
       "    </tr>\n",
       "  </tbody>\n",
       "</table>\n",
       "</div>"
      ],
      "text/plain": [
       "    age  workclass    fnlwgt  education  education-num  marital-status  \\\n",
       "0  32.0          3  196342.0          0           16.0               1   \n",
       "1  61.0          3  232808.0          4            6.0               2   \n",
       "2  38.0          3  205493.0          2            9.0               0   \n",
       "3  46.0          3   45363.0          3           15.0               2   \n",
       "4  44.0          3  244974.0          2            9.0               0   \n",
       "5  33.0          3  191385.0          5           13.0               1   \n",
       "6  38.0          3  187870.0          3           15.0               0   \n",
       "7  20.0          3   66695.0          3           10.0               1   \n",
       "8  67.0          3  174603.0          2            9.0               1   \n",
       "9  66.0          3  142624.0          3           12.0               0   \n",
       "\n",
       "   occupation  relationship  race  sex  hours-per-week  country  salary  \n",
       "0           9             1     4    1              40       38       1  \n",
       "1           7             1     4    1              24       38       0  \n",
       "2           3             5     4    0              60       38       1  \n",
       "3           9             1     4    1              40       38       1  \n",
       "4          11             0     4    1              60       38       0  \n",
       "5           9             1     4    1              40        1       0  \n",
       "6           9             0     4    1              90       38       1  \n",
       "7           9             3     3    0              35       38       0  \n",
       "8           3             1     4    0              35       38       0  \n",
       "9           6             0     4    1              40       40       1  "
      ]
     },
     "execution_count": 103,
     "metadata": {},
     "output_type": "execute_result"
    }
   ],
   "source": [
    "train_set_encoded.head(10)"
   ]
  },
  {
   "cell_type": "code",
   "execution_count": 104,
   "id": "0d7aaefe",
   "metadata": {},
   "outputs": [
    {
     "data": {
      "text/html": [
       "<div>\n",
       "<style scoped>\n",
       "    .dataframe tbody tr th:only-of-type {\n",
       "        vertical-align: middle;\n",
       "    }\n",
       "\n",
       "    .dataframe tbody tr th {\n",
       "        vertical-align: top;\n",
       "    }\n",
       "\n",
       "    .dataframe thead th {\n",
       "        text-align: right;\n",
       "    }\n",
       "</style>\n",
       "<table border=\"1\" class=\"dataframe\">\n",
       "  <thead>\n",
       "    <tr style=\"text-align: right;\">\n",
       "      <th></th>\n",
       "      <th>age</th>\n",
       "      <th>workclass</th>\n",
       "      <th>fnlwgt</th>\n",
       "      <th>education</th>\n",
       "      <th>education-num</th>\n",
       "      <th>marital-status</th>\n",
       "      <th>occupation</th>\n",
       "      <th>relationship</th>\n",
       "      <th>race</th>\n",
       "      <th>sex</th>\n",
       "      <th>hours-per-week</th>\n",
       "      <th>country</th>\n",
       "      <th>salary</th>\n",
       "    </tr>\n",
       "  </thead>\n",
       "  <tbody>\n",
       "    <tr>\n",
       "      <th>0</th>\n",
       "      <td>27</td>\n",
       "      <td>3</td>\n",
       "      <td>181284</td>\n",
       "      <td>4</td>\n",
       "      <td>8</td>\n",
       "      <td>0</td>\n",
       "      <td>9</td>\n",
       "      <td>0</td>\n",
       "      <td>2</td>\n",
       "      <td>1</td>\n",
       "      <td>45</td>\n",
       "      <td>38</td>\n",
       "      <td>0</td>\n",
       "    </tr>\n",
       "    <tr>\n",
       "      <th>1</th>\n",
       "      <td>24</td>\n",
       "      <td>3</td>\n",
       "      <td>235894</td>\n",
       "      <td>2</td>\n",
       "      <td>9</td>\n",
       "      <td>0</td>\n",
       "      <td>2</td>\n",
       "      <td>0</td>\n",
       "      <td>4</td>\n",
       "      <td>1</td>\n",
       "      <td>38</td>\n",
       "      <td>38</td>\n",
       "      <td>0</td>\n",
       "    </tr>\n",
       "    <tr>\n",
       "      <th>2</th>\n",
       "      <td>30</td>\n",
       "      <td>3</td>\n",
       "      <td>65278</td>\n",
       "      <td>2</td>\n",
       "      <td>9</td>\n",
       "      <td>0</td>\n",
       "      <td>12</td>\n",
       "      <td>0</td>\n",
       "      <td>4</td>\n",
       "      <td>1</td>\n",
       "      <td>40</td>\n",
       "      <td>38</td>\n",
       "      <td>1</td>\n",
       "    </tr>\n",
       "    <tr>\n",
       "      <th>3</th>\n",
       "      <td>20</td>\n",
       "      <td>3</td>\n",
       "      <td>117476</td>\n",
       "      <td>3</td>\n",
       "      <td>10</td>\n",
       "      <td>0</td>\n",
       "      <td>2</td>\n",
       "      <td>0</td>\n",
       "      <td>4</td>\n",
       "      <td>1</td>\n",
       "      <td>40</td>\n",
       "      <td>38</td>\n",
       "      <td>0</td>\n",
       "    </tr>\n",
       "    <tr>\n",
       "      <th>4</th>\n",
       "      <td>54</td>\n",
       "      <td>3</td>\n",
       "      <td>88019</td>\n",
       "      <td>3</td>\n",
       "      <td>10</td>\n",
       "      <td>2</td>\n",
       "      <td>13</td>\n",
       "      <td>1</td>\n",
       "      <td>4</td>\n",
       "      <td>1</td>\n",
       "      <td>55</td>\n",
       "      <td>38</td>\n",
       "      <td>0</td>\n",
       "    </tr>\n",
       "    <tr>\n",
       "      <th>5</th>\n",
       "      <td>51</td>\n",
       "      <td>1</td>\n",
       "      <td>136823</td>\n",
       "      <td>2</td>\n",
       "      <td>9</td>\n",
       "      <td>0</td>\n",
       "      <td>3</td>\n",
       "      <td>5</td>\n",
       "      <td>4</td>\n",
       "      <td>0</td>\n",
       "      <td>32</td>\n",
       "      <td>38</td>\n",
       "      <td>0</td>\n",
       "    </tr>\n",
       "    <tr>\n",
       "      <th>6</th>\n",
       "      <td>52</td>\n",
       "      <td>3</td>\n",
       "      <td>204584</td>\n",
       "      <td>5</td>\n",
       "      <td>13</td>\n",
       "      <td>2</td>\n",
       "      <td>3</td>\n",
       "      <td>1</td>\n",
       "      <td>4</td>\n",
       "      <td>0</td>\n",
       "      <td>42</td>\n",
       "      <td>38</td>\n",
       "      <td>0</td>\n",
       "    </tr>\n",
       "    <tr>\n",
       "      <th>7</th>\n",
       "      <td>45</td>\n",
       "      <td>4</td>\n",
       "      <td>201699</td>\n",
       "      <td>0</td>\n",
       "      <td>16</td>\n",
       "      <td>0</td>\n",
       "      <td>9</td>\n",
       "      <td>0</td>\n",
       "      <td>4</td>\n",
       "      <td>1</td>\n",
       "      <td>60</td>\n",
       "      <td>38</td>\n",
       "      <td>1</td>\n",
       "    </tr>\n",
       "    <tr>\n",
       "      <th>8</th>\n",
       "      <td>23</td>\n",
       "      <td>1</td>\n",
       "      <td>304386</td>\n",
       "      <td>2</td>\n",
       "      <td>9</td>\n",
       "      <td>1</td>\n",
       "      <td>7</td>\n",
       "      <td>1</td>\n",
       "      <td>4</td>\n",
       "      <td>0</td>\n",
       "      <td>40</td>\n",
       "      <td>38</td>\n",
       "      <td>0</td>\n",
       "    </tr>\n",
       "    <tr>\n",
       "      <th>9</th>\n",
       "      <td>51</td>\n",
       "      <td>3</td>\n",
       "      <td>199688</td>\n",
       "      <td>5</td>\n",
       "      <td>13</td>\n",
       "      <td>0</td>\n",
       "      <td>3</td>\n",
       "      <td>0</td>\n",
       "      <td>4</td>\n",
       "      <td>1</td>\n",
       "      <td>60</td>\n",
       "      <td>38</td>\n",
       "      <td>1</td>\n",
       "    </tr>\n",
       "  </tbody>\n",
       "</table>\n",
       "</div>"
      ],
      "text/plain": [
       "   age  workclass  fnlwgt  education  education-num  marital-status  \\\n",
       "0   27          3  181284          4              8               0   \n",
       "1   24          3  235894          2              9               0   \n",
       "2   30          3   65278          2              9               0   \n",
       "3   20          3  117476          3             10               0   \n",
       "4   54          3   88019          3             10               2   \n",
       "5   51          1  136823          2              9               0   \n",
       "6   52          3  204584          5             13               2   \n",
       "7   45          4  201699          0             16               0   \n",
       "8   23          1  304386          2              9               1   \n",
       "9   51          3  199688          5             13               0   \n",
       "\n",
       "   occupation  relationship  race  sex  hours-per-week  country  salary  \n",
       "0           9             0     2    1              45       38       0  \n",
       "1           2             0     4    1              38       38       0  \n",
       "2          12             0     4    1              40       38       1  \n",
       "3           2             0     4    1              40       38       0  \n",
       "4          13             1     4    1              55       38       0  \n",
       "5           3             5     4    0              32       38       0  \n",
       "6           3             1     4    0              42       38       0  \n",
       "7           9             0     4    1              60       38       1  \n",
       "8           7             1     4    0              40       38       0  \n",
       "9           3             0     4    1              60       38       1  "
      ]
     },
     "execution_count": 104,
     "metadata": {},
     "output_type": "execute_result"
    }
   ],
   "source": [
    "test_set_encoded.head(10)"
   ]
  },
  {
   "cell_type": "code",
   "execution_count": null,
   "id": "5ab206d7",
   "metadata": {},
   "outputs": [],
   "source": []
  },
  {
   "cell_type": "code",
   "execution_count": null,
   "id": "dbe7f95e",
   "metadata": {},
   "outputs": [],
   "source": []
  },
  {
   "cell_type": "markdown",
   "id": "27994ae1",
   "metadata": {},
   "source": [
    "# MODEL TRAINING AND EAVALUTION WITH DEFAULT PARAMETER"
   ]
  },
  {
   "cell_type": "code",
   "execution_count": 105,
   "id": "cf5e65e0",
   "metadata": {},
   "outputs": [],
   "source": [
    "x_train=train_set_encoded.drop('salary',axis=1)\n",
    "y_train=train_set_encoded['salary']\n",
    "\n",
    "x_test=test_set_encoded.drop('salary',axis=1)\n",
    "y_test=test_set_encoded['salary']\n"
   ]
  },
  {
   "cell_type": "code",
   "execution_count": 106,
   "id": "7cfcfa1f",
   "metadata": {},
   "outputs": [
    {
     "name": "stdout",
     "output_type": "stream",
     "text": [
      "(26048, 12) (26048,)\n"
     ]
    }
   ],
   "source": [
    "print(x_train.shape,y_train.shape)"
   ]
  },
  {
   "cell_type": "code",
   "execution_count": 107,
   "id": "9771d55a",
   "metadata": {},
   "outputs": [],
   "source": [
    "#from sklearn.linear_model import LogisticRegression\n",
    "#from sklearn.neighbors import KNeighborsClassifier\n",
    "#from sklearn.tree import DecisionTreeClassifier\n",
    "from sklearn.ensemble import RandomForestClassifier\n",
    "#from sklearn.ensemble import AdaBoostClassifier\n",
    "#from sklearn.ensemble import GradientBoostingClassifier\n",
    "from xgboost import XGBClassifier\n",
    "from catboost import CatBoostClassifier\n",
    "#from lightgbm import LGBMClassifier\n",
    "#from sklearn.naive_bayes import GaussianNB\n",
    "#from sklearn.svm import SVC\n"
   ]
  },
  {
   "cell_type": "code",
   "execution_count": 118,
   "id": "ca668348",
   "metadata": {},
   "outputs": [],
   "source": [
    "#all metrics\n",
    "from sklearn.metrics import confusion_matrix,roc_auc_score,classification_report\n",
    "from sklearn.metrics import auc,roc_curve"
   ]
  },
  {
   "cell_type": "markdown",
   "id": "dd9198e5",
   "metadata": {},
   "source": [
    "# Using Randome Forest classifier"
   ]
  },
  {
   "cell_type": "code",
   "execution_count": 108,
   "id": "e27648f2",
   "metadata": {},
   "outputs": [
    {
     "data": {
      "text/plain": [
       "RandomForestClassifier()"
      ]
     },
     "execution_count": 108,
     "metadata": {},
     "output_type": "execute_result"
    }
   ],
   "source": [
    "rf=RandomForestClassifier()\n",
    "rf.fit(x_train,y_train)"
   ]
  },
  {
   "cell_type": "code",
   "execution_count": 109,
   "id": "638298b9",
   "metadata": {},
   "outputs": [],
   "source": [
    "y_pred_rf=rf.predict(x_test)"
   ]
  },
  {
   "cell_type": "code",
   "execution_count": 110,
   "id": "9ae09ed3",
   "metadata": {},
   "outputs": [
    {
     "data": {
      "text/plain": [
       "array([0, 0, 0, ..., 1, 0, 0])"
      ]
     },
     "execution_count": 110,
     "metadata": {},
     "output_type": "execute_result"
    }
   ],
   "source": [
    "y_pred_rf"
   ]
  },
  {
   "cell_type": "code",
   "execution_count": 111,
   "id": "e088908b",
   "metadata": {},
   "outputs": [
    {
     "name": "stdout",
     "output_type": "stream",
     "text": [
      "Training Accuracy : 0.9999232186732187\n",
      "Testing Accuracy : 0.8284968524489482\n",
      "ROC AUC Score : 0.7714573511578992\n",
      "****************************************************************************************************\n",
      "[[4430  639]\n",
      " [ 478  966]]\n",
      "****************************************************************************************************\n",
      "              precision    recall  f1-score   support\n",
      "\n",
      "           0       0.90      0.87      0.89      5069\n",
      "           1       0.60      0.67      0.63      1444\n",
      "\n",
      "    accuracy                           0.83      6513\n",
      "   macro avg       0.75      0.77      0.76      6513\n",
      "weighted avg       0.84      0.83      0.83      6513\n",
      "\n"
     ]
    }
   ],
   "source": [
    "# evaluating the RandomeForest model\n",
    "print(\"Training Accuracy :\", rf.score(x_train, y_train))\n",
    "print(\"Testing Accuracy :\", rf.score(x_test, y_test))\n",
    "print(\"ROC AUC Score :\", roc_auc_score(y_pred_rf,y_test))\n",
    "print('*'*100)\n",
    "print(confusion_matrix(y_pred_rf,y_test))\n",
    "print('*'*100)\n",
    "print(classification_report(y_pred_rf,y_test))"
   ]
  },
  {
   "cell_type": "code",
   "execution_count": 267,
   "id": "1cfc0b0f",
   "metadata": {},
   "outputs": [
    {
     "ename": "AttributeError",
     "evalue": "'RandomForestClassifier' object has no attribute 'cv_results_'",
     "output_type": "error",
     "traceback": [
      "\u001b[1;31m---------------------------------------------------------------------------\u001b[0m",
      "\u001b[1;31mAttributeError\u001b[0m                            Traceback (most recent call last)",
      "\u001b[1;32m~\\AppData\\Local\\Temp\\ipykernel_2692\\1186180900.py\u001b[0m in \u001b[0;36m<module>\u001b[1;34m\u001b[0m\n\u001b[1;32m----> 1\u001b[1;33m \u001b[0mscore_rf\u001b[0m \u001b[1;33m=\u001b[0m \u001b[0mpd\u001b[0m\u001b[1;33m.\u001b[0m\u001b[0mDataFrame\u001b[0m\u001b[1;33m(\u001b[0m\u001b[0mrf\u001b[0m\u001b[1;33m.\u001b[0m\u001b[0mcv_results_\u001b[0m\u001b[1;33m)\u001b[0m\u001b[1;33m\u001b[0m\u001b[1;33m\u001b[0m\u001b[0m\n\u001b[0m\u001b[0;32m      2\u001b[0m \u001b[0mscore_rf\u001b[0m\u001b[1;33m.\u001b[0m\u001b[0mhead\u001b[0m\u001b[1;33m(\u001b[0m\u001b[1;33m)\u001b[0m\u001b[1;33m\u001b[0m\u001b[1;33m\u001b[0m\u001b[0m\n",
      "\u001b[1;31mAttributeError\u001b[0m: 'RandomForestClassifier' object has no attribute 'cv_results_'"
     ]
    }
   ],
   "source": [
    "score_rf = pd.DataFrame(rf.cv_results_)\n",
    "score_rf.head()"
   ]
  },
  {
   "cell_type": "code",
   "execution_count": null,
   "id": "b295af1a",
   "metadata": {},
   "outputs": [],
   "source": []
  },
  {
   "cell_type": "code",
   "execution_count": 116,
   "id": "43bfa647",
   "metadata": {},
   "outputs": [
    {
     "name": "stdout",
     "output_type": "stream",
     "text": [
      "fpr : [0.         0.09739201 1.        ]\n",
      "tpr : [0.         0.60186916 1.        ]\n",
      "threshold : [2 1 0]\n"
     ]
    }
   ],
   "source": [
    "fpr,tpr,threshold=roc_curve(y_test,y_pred_rf)\n",
    "print(\"fpr :\",fpr)\n",
    "print(\"tpr :\",tpr)\n",
    "print(\"threshold :\",threshold)"
   ]
  },
  {
   "cell_type": "code",
   "execution_count": 119,
   "id": "a7ba2e13",
   "metadata": {},
   "outputs": [
    {
     "data": {
      "text/plain": [
       "0.752238572919285"
      ]
     },
     "execution_count": 119,
     "metadata": {},
     "output_type": "execute_result"
    }
   ],
   "source": [
    "#goodness of random forest model\n",
    "roc_auc=auc(fpr,tpr)\n",
    "roc_auc"
   ]
  },
  {
   "cell_type": "markdown",
   "id": "19fce134",
   "metadata": {},
   "source": [
    "# Manual Search for Optimal Parameter"
   ]
  },
  {
   "cell_type": "markdown",
   "id": "a97837b4",
   "metadata": {},
   "source": [
    "### finding optimal no. of estimators"
   ]
  },
  {
   "cell_type": "code",
   "execution_count": 125,
   "id": "1569d9ff",
   "metadata": {},
   "outputs": [],
   "source": [
    "n_estimators=[1,2,4,8,16,32,64,100,200]\n",
    "train_results=[]\n",
    "test_results=[]"
   ]
  },
  {
   "cell_type": "markdown",
   "id": "8a728a16",
   "metadata": {},
   "source": [
    "### creating function to find optimal parameter"
   ]
  },
  {
   "cell_type": "raw",
   "id": "59e8853d",
   "metadata": {},
   "source": [
    "for estimator in n_estimators:\n",
    "    rf=RandomForestClassifier(n_estimators=estimator,n_jobs=-1)\n",
    "    rf.fit(x_train,y_train)\n",
    "    train_pred=rf.predict(x_train)\n",
    "    fpr,tpr,threshold=roc_curve(y_train,train_pred)\n",
    "    roc_auc=auc(fpr,tpr)\n",
    "    train_results.append(roc_auc)\n",
    "    \n",
    "    y_pred=rf.predict(x_test)\n",
    "    fpr,tpr,threshold=roc_curve(y_test,y_pred)\n",
    "    roc_auc=auc(fpr,tpr)\n",
    "    test_results.append(roc_auc)\n",
    "    \n",
    "\n",
    "from matplotlib.legend_handler import HandlerLine2D\n",
    "#line1,=plt.plot(n_estimators,train_results='b',label='Train AUC')\n",
    "line2,=plt.plot(n_estimators,test_results='r',label='Test AUC')\n",
    "#plt.legend(handler_map={line1: HandlerLine2D(numpoints=2)})\n",
    "#plt.ylabel(\"AUC score\")\n",
    "#plt.xlabel(\"n_estomators\")\n",
    "#plt.show()"
   ]
  },
  {
   "cell_type": "markdown",
   "id": "83e66570",
   "metadata": {},
   "source": [
    "# Using GridSearchCv()"
   ]
  },
  {
   "cell_type": "code",
   "execution_count": 134,
   "id": "79cebd5c",
   "metadata": {},
   "outputs": [],
   "source": [
    "#Defining All hyperparameter and its values\n",
    "\n",
    "#number of trees in random_forest\n",
    "n_estimators=[int(x) for x in np.linspace(10,80,10)]\n",
    "\n",
    "#number of feature to consider at every split\n",
    "max_features=['auto','sqrt']\n",
    "\n",
    "#maximum number of levels in tree\n",
    "max_depth=[2,4]\n",
    "\n",
    "#minimum number of samples required to split a node\n",
    "min_samples_split=[2,5]\n",
    "\n",
    "#minimum number of samples required at each leaf node\n",
    "min_samples_leaf=[1,2]\n",
    "\n",
    "#Method of selecting samples for training each tree\n",
    "bootstrap=[True,False]"
   ]
  },
  {
   "cell_type": "code",
   "execution_count": 139,
   "id": "f4c15de5",
   "metadata": {},
   "outputs": [
    {
     "name": "stdout",
     "output_type": "stream",
     "text": [
      "{'n_estimators': [10, 17, 25, 33, 41, 48, 56, 64, 72, 80], 'max_features': ['auto', 'sqrt'], 'max_depth': [2, 4], 'min_samples_split': [2, 5], 'min_samples_leaf': [1, 2], 'bootstrap': [True, False]}\n"
     ]
    }
   ],
   "source": [
    "#creating param_grid\n",
    "param_grid={'n_estimators':n_estimators,\n",
    "           'max_features':max_features,\n",
    "           'max_depth':max_depth,\n",
    "           'min_samples_split':min_samples_split,\n",
    "           'min_samples_leaf':min_samples_leaf,\n",
    "           'bootstrap':bootstrap}\n",
    "\n",
    "print(param_grid)"
   ]
  },
  {
   "cell_type": "code",
   "execution_count": 142,
   "id": "df7ce297",
   "metadata": {},
   "outputs": [
    {
     "name": "stdout",
     "output_type": "stream",
     "text": [
      "Fitting 3 folds for each of 320 candidates, totalling 960 fits\n"
     ]
    },
    {
     "data": {
      "text/plain": [
       "GridSearchCV(cv=3,\n",
       "             estimator=RandomForestClassifier(n_estimators=200, n_jobs=-1),\n",
       "             n_jobs=-1,\n",
       "             param_grid={'bootstrap': [True, False], 'max_depth': [2, 4],\n",
       "                         'max_features': ['auto', 'sqrt'],\n",
       "                         'min_samples_leaf': [1, 2],\n",
       "                         'min_samples_split': [2, 5],\n",
       "                         'n_estimators': [10, 17, 25, 33, 41, 48, 56, 64, 72,\n",
       "                                          80]},\n",
       "             verbose=2)"
      ]
     },
     "execution_count": 142,
     "metadata": {},
     "output_type": "execute_result"
    }
   ],
   "source": [
    "from sklearn.model_selection import GridSearchCV\n",
    "rf_grid=GridSearchCV(estimator=rf,param_grid=param_grid,cv=3,verbose=2,n_jobs=-1,random_state=42)\n",
    "rf_grid.fit(x_train,y_train)"
   ]
  },
  {
   "cell_type": "code",
   "execution_count": 143,
   "id": "97e0f794",
   "metadata": {},
   "outputs": [
    {
     "data": {
      "text/plain": [
       "{'bootstrap': False,\n",
       " 'max_depth': 4,\n",
       " 'max_features': 'sqrt',\n",
       " 'min_samples_leaf': 2,\n",
       " 'min_samples_split': 5,\n",
       " 'n_estimators': 33}"
      ]
     },
     "execution_count": 143,
     "metadata": {},
     "output_type": "execute_result"
    }
   ],
   "source": [
    "rf_grid.best_params_"
   ]
  },
  {
   "cell_type": "code",
   "execution_count": 205,
   "id": "d0740605",
   "metadata": {},
   "outputs": [
    {
     "data": {
      "text/plain": [
       "RandomForestClassifier(bootstrap=False, max_depth=4, max_features='sqrt',\n",
       "                       min_samples_leaf=2, min_samples_split=5, n_estimators=33,\n",
       "                       n_jobs=-1)"
      ]
     },
     "execution_count": 205,
     "metadata": {},
     "output_type": "execute_result"
    }
   ],
   "source": [
    "rf_grid.best_estimator_"
   ]
  },
  {
   "cell_type": "code",
   "execution_count": 145,
   "id": "20ae128b",
   "metadata": {},
   "outputs": [
    {
     "data": {
      "text/plain": [
       "0.8212915350846463"
      ]
     },
     "execution_count": 145,
     "metadata": {},
     "output_type": "execute_result"
    }
   ],
   "source": [
    "rf_grid.best_score_"
   ]
  },
  {
   "cell_type": "code",
   "execution_count": 146,
   "id": "4ce4f5e7",
   "metadata": {},
   "outputs": [
    {
     "name": "stdout",
     "output_type": "stream",
     "text": [
      "training accuracy with GridSearchCv:  0.8210995085995086\n",
      "testing accuracy with GridSearchCv:  0.8211269768155995\n"
     ]
    }
   ],
   "source": [
    "#checking accuracies with best params\n",
    "print('training accuracy with GridSearchCv: ',rf_grid.score(x_train,y_train))\n",
    "print('testing accuracy with GridSearchCv: ',rf_grid.score(x_test,y_test))"
   ]
  },
  {
   "cell_type": "markdown",
   "id": "53cf3584",
   "metadata": {},
   "source": [
    "### Prediction after hyperparameter tuning(model with GridSearchCV)"
   ]
  },
  {
   "cell_type": "code",
   "execution_count": 170,
   "id": "aa53e0b8",
   "metadata": {},
   "outputs": [],
   "source": [
    "y_pred_rf_gridsearch=rf_grid.predict(x_test)"
   ]
  },
  {
   "cell_type": "code",
   "execution_count": 171,
   "id": "bdf9de2a",
   "metadata": {},
   "outputs": [
    {
     "data": {
      "text/plain": [
       "array([0, 0, 0, ..., 1, 0, 0])"
      ]
     },
     "execution_count": 171,
     "metadata": {},
     "output_type": "execute_result"
    }
   ],
   "source": [
    "y_pred_rf_gridsearch"
   ]
  },
  {
   "cell_type": "code",
   "execution_count": 172,
   "id": "f2cc46be",
   "metadata": {},
   "outputs": [
    {
     "name": "stdout",
     "output_type": "stream",
     "text": [
      "Training Accuracy : 0.8210995085995086\n",
      "Testing Accuracy : 0.8211269768155995\n",
      "ROC AUC Score : 0.7918006665738727\n",
      "****************************************************************************************************\n",
      "[[4691  948]\n",
      " [ 217  657]]\n",
      "****************************************************************************************************\n",
      "              precision    recall  f1-score   support\n",
      "\n",
      "           0       0.96      0.83      0.89      5639\n",
      "           1       0.41      0.75      0.53       874\n",
      "\n",
      "    accuracy                           0.82      6513\n",
      "   macro avg       0.68      0.79      0.71      6513\n",
      "weighted avg       0.88      0.82      0.84      6513\n",
      "\n"
     ]
    }
   ],
   "source": [
    "# evaluating the RandomeForest model\n",
    "print(\"Training Accuracy :\", rf_grid.score(x_train, y_train))\n",
    "print(\"Testing Accuracy :\", rf_grid.score(x_test, y_test))\n",
    "print(\"ROC AUC Score :\", roc_auc_score(y_pred_rf_gridsearch,y_test))\n",
    "print('*'*100)\n",
    "print(confusion_matrix(y_pred_rf_gridsearch,y_test))\n",
    "print('*'*100)\n",
    "print(classification_report(y_pred_rf_gridsearch,y_test))"
   ]
  },
  {
   "cell_type": "code",
   "execution_count": 233,
   "id": "53dcef94",
   "metadata": {},
   "outputs": [
    {
     "name": "stdout",
     "output_type": "stream",
     "text": [
      "fpr : [0.         0.04421353 1.        ]\n",
      "tpr : [0.         0.40934579 1.        ]\n",
      "threshold : [2 1 0]\n"
     ]
    }
   ],
   "source": [
    "fpr,tpr,threshold=roc_curve(y_test,y_pred_rf_gridsearch)\n",
    "print(\"fpr :\",fpr)\n",
    "print(\"tpr :\",tpr)\n",
    "print(\"threshold :\",threshold)"
   ]
  },
  {
   "cell_type": "code",
   "execution_count": 234,
   "id": "8af09b99",
   "metadata": {},
   "outputs": [
    {
     "data": {
      "text/plain": [
       "0.682566132730084"
      ]
     },
     "execution_count": 234,
     "metadata": {},
     "output_type": "execute_result"
    }
   ],
   "source": [
    "#goodness of random forest model\n",
    "roc_auc=auc(fpr,tpr)\n",
    "roc_auc"
   ]
  },
  {
   "cell_type": "code",
   "execution_count": null,
   "id": "3d7cc135",
   "metadata": {},
   "outputs": [],
   "source": []
  },
  {
   "cell_type": "markdown",
   "id": "5a2f9021",
   "metadata": {},
   "source": [
    "# Using RandomSearchCv()"
   ]
  },
  {
   "cell_type": "code",
   "execution_count": 151,
   "id": "7ff80572",
   "metadata": {},
   "outputs": [],
   "source": [
    "from sklearn.model_selection import RandomizedSearchCV"
   ]
  },
  {
   "cell_type": "code",
   "execution_count": 147,
   "id": "b9badd95",
   "metadata": {},
   "outputs": [
    {
     "data": {
      "text/plain": [
       "{'bootstrap': True,\n",
       " 'ccp_alpha': 0.0,\n",
       " 'class_weight': None,\n",
       " 'criterion': 'gini',\n",
       " 'max_depth': None,\n",
       " 'max_features': 'auto',\n",
       " 'max_leaf_nodes': None,\n",
       " 'max_samples': None,\n",
       " 'min_impurity_decrease': 0.0,\n",
       " 'min_samples_leaf': 1,\n",
       " 'min_samples_split': 2,\n",
       " 'min_weight_fraction_leaf': 0.0,\n",
       " 'n_estimators': 100,\n",
       " 'n_jobs': None,\n",
       " 'oob_score': False,\n",
       " 'random_state': None,\n",
       " 'verbose': 0,\n",
       " 'warm_start': False}"
      ]
     },
     "execution_count": 147,
     "metadata": {},
     "output_type": "execute_result"
    }
   ],
   "source": [
    "RandomForestClassifier().get_params()"
   ]
  },
  {
   "cell_type": "markdown",
   "id": "13e39dae",
   "metadata": {},
   "source": [
    "Assigning the range of values for some important hyperparameters"
   ]
  },
  {
   "cell_type": "code",
   "execution_count": 156,
   "id": "09111475",
   "metadata": {},
   "outputs": [],
   "source": [
    "n_estimators= list(range(10,220,50))\n",
    "criterion= ['gini', 'entropy']\n",
    "max_depth= list(range(5,41,10))\n",
    "min_samples_split= [2,3,4,5,6]\n",
    "min_samples_leaf= [1,2,3,4]\n",
    "max_features= ['sqrt', 'log2']"
   ]
  },
  {
   "cell_type": "code",
   "execution_count": 157,
   "id": "ac6f8f50",
   "metadata": {},
   "outputs": [],
   "source": [
    "params_grid = {\n",
    "    'n_estimators': n_estimators,\n",
    "    'criterion': criterion,\n",
    "    'max_depth': max_depth,\n",
    "    'min_samples_split': min_samples_split,\n",
    "    'min_samples_leaf': min_samples_leaf,\n",
    "    'max_features': max_features\n",
    "}"
   ]
  },
  {
   "cell_type": "code",
   "execution_count": 164,
   "id": "97b0698d",
   "metadata": {},
   "outputs": [],
   "source": [
    "rf_random_search = RandomizedSearchCV(estimator=rf,\n",
    "                              param_distributions=params_grid,\n",
    "                              n_iter=10,\n",
    "                              cv=3,\n",
    "                              scoring=None,\n",
    "                              return_train_score=True,\n",
    "                              verbose=2,\n",
    "                              random_state=0)"
   ]
  },
  {
   "cell_type": "code",
   "execution_count": 165,
   "id": "dfe63070",
   "metadata": {},
   "outputs": [
    {
     "name": "stdout",
     "output_type": "stream",
     "text": [
      "Fitting 3 folds for each of 10 candidates, totalling 30 fits\n",
      "[CV] END criterion=gini, max_depth=35, max_features=sqrt, min_samples_leaf=4, min_samples_split=3, n_estimators=210; total time=   2.3s\n",
      "[CV] END criterion=gini, max_depth=35, max_features=sqrt, min_samples_leaf=4, min_samples_split=3, n_estimators=210; total time=   2.3s\n",
      "[CV] END criterion=gini, max_depth=35, max_features=sqrt, min_samples_leaf=4, min_samples_split=3, n_estimators=210; total time=   2.2s\n",
      "[CV] END criterion=gini, max_depth=25, max_features=log2, min_samples_leaf=3, min_samples_split=3, n_estimators=210; total time=   2.9s\n",
      "[CV] END criterion=gini, max_depth=25, max_features=log2, min_samples_leaf=3, min_samples_split=3, n_estimators=210; total time=   2.3s\n",
      "[CV] END criterion=gini, max_depth=25, max_features=log2, min_samples_leaf=3, min_samples_split=3, n_estimators=210; total time=   2.2s\n",
      "[CV] END criterion=entropy, max_depth=25, max_features=sqrt, min_samples_leaf=1, min_samples_split=5, n_estimators=60; total time=   0.8s\n",
      "[CV] END criterion=entropy, max_depth=25, max_features=sqrt, min_samples_leaf=1, min_samples_split=5, n_estimators=60; total time=   0.8s\n",
      "[CV] END criterion=entropy, max_depth=25, max_features=sqrt, min_samples_leaf=1, min_samples_split=5, n_estimators=60; total time=   0.9s\n",
      "[CV] END criterion=entropy, max_depth=5, max_features=sqrt, min_samples_leaf=2, min_samples_split=4, n_estimators=10; total time=   0.0s\n",
      "[CV] END criterion=entropy, max_depth=5, max_features=sqrt, min_samples_leaf=2, min_samples_split=4, n_estimators=10; total time=   0.0s\n",
      "[CV] END criterion=entropy, max_depth=5, max_features=sqrt, min_samples_leaf=2, min_samples_split=4, n_estimators=10; total time=   0.0s\n",
      "[CV] END criterion=gini, max_depth=35, max_features=log2, min_samples_leaf=3, min_samples_split=4, n_estimators=160; total time=   1.7s\n",
      "[CV] END criterion=gini, max_depth=35, max_features=log2, min_samples_leaf=3, min_samples_split=4, n_estimators=160; total time=   1.7s\n",
      "[CV] END criterion=gini, max_depth=35, max_features=log2, min_samples_leaf=3, min_samples_split=4, n_estimators=160; total time=   1.7s\n",
      "[CV] END criterion=entropy, max_depth=25, max_features=log2, min_samples_leaf=4, min_samples_split=3, n_estimators=160; total time=   1.9s\n",
      "[CV] END criterion=entropy, max_depth=25, max_features=log2, min_samples_leaf=4, min_samples_split=3, n_estimators=160; total time=   2.0s\n",
      "[CV] END criterion=entropy, max_depth=25, max_features=log2, min_samples_leaf=4, min_samples_split=3, n_estimators=160; total time=   2.0s\n",
      "[CV] END criterion=entropy, max_depth=15, max_features=sqrt, min_samples_leaf=2, min_samples_split=3, n_estimators=160; total time=   1.9s\n",
      "[CV] END criterion=entropy, max_depth=15, max_features=sqrt, min_samples_leaf=2, min_samples_split=3, n_estimators=160; total time=   1.9s\n",
      "[CV] END criterion=entropy, max_depth=15, max_features=sqrt, min_samples_leaf=2, min_samples_split=3, n_estimators=160; total time=   2.1s\n",
      "[CV] END criterion=gini, max_depth=15, max_features=sqrt, min_samples_leaf=4, min_samples_split=2, n_estimators=110; total time=   1.6s\n",
      "[CV] END criterion=gini, max_depth=15, max_features=sqrt, min_samples_leaf=4, min_samples_split=2, n_estimators=110; total time=   1.2s\n",
      "[CV] END criterion=gini, max_depth=15, max_features=sqrt, min_samples_leaf=4, min_samples_split=2, n_estimators=110; total time=   1.1s\n",
      "[CV] END criterion=gini, max_depth=25, max_features=log2, min_samples_leaf=4, min_samples_split=6, n_estimators=210; total time=   2.7s\n",
      "[CV] END criterion=gini, max_depth=25, max_features=log2, min_samples_leaf=4, min_samples_split=6, n_estimators=210; total time=   2.2s\n",
      "[CV] END criterion=gini, max_depth=25, max_features=log2, min_samples_leaf=4, min_samples_split=6, n_estimators=210; total time=   2.2s\n",
      "[CV] END criterion=entropy, max_depth=15, max_features=sqrt, min_samples_leaf=4, min_samples_split=5, n_estimators=210; total time=   2.5s\n",
      "[CV] END criterion=entropy, max_depth=15, max_features=sqrt, min_samples_leaf=4, min_samples_split=5, n_estimators=210; total time=   2.5s\n",
      "[CV] END criterion=entropy, max_depth=15, max_features=sqrt, min_samples_leaf=4, min_samples_split=5, n_estimators=210; total time=   2.5s\n"
     ]
    },
    {
     "data": {
      "text/plain": [
       "RandomizedSearchCV(cv=3,\n",
       "                   estimator=RandomForestClassifier(n_estimators=200,\n",
       "                                                    n_jobs=-1),\n",
       "                   param_distributions={'criterion': ['gini', 'entropy'],\n",
       "                                        'max_depth': [5, 15, 25, 35],\n",
       "                                        'max_features': ['sqrt', 'log2'],\n",
       "                                        'min_samples_leaf': [1, 2, 3, 4],\n",
       "                                        'min_samples_split': [2, 3, 4, 5, 6],\n",
       "                                        'n_estimators': [10, 60, 110, 160,\n",
       "                                                         210]},\n",
       "                   random_state=0, return_train_score=True, verbose=2)"
      ]
     },
     "execution_count": 165,
     "metadata": {},
     "output_type": "execute_result"
    }
   ],
   "source": [
    "rf_random_search.fit(x_train,y_train)"
   ]
  },
  {
   "cell_type": "code",
   "execution_count": 166,
   "id": "d22f5669",
   "metadata": {},
   "outputs": [
    {
     "data": {
      "text/plain": [
       "{'n_estimators': 210,\n",
       " 'min_samples_split': 5,\n",
       " 'min_samples_leaf': 4,\n",
       " 'max_features': 'sqrt',\n",
       " 'max_depth': 15,\n",
       " 'criterion': 'entropy'}"
      ]
     },
     "execution_count": 166,
     "metadata": {},
     "output_type": "execute_result"
    }
   ],
   "source": [
    "rf_random_search.best_params_"
   ]
  },
  {
   "cell_type": "code",
   "execution_count": 197,
   "id": "daf4816f",
   "metadata": {},
   "outputs": [
    {
     "data": {
      "text/plain": [
       "RandomForestClassifier(criterion='entropy', max_depth=15, max_features='sqrt',\n",
       "                       min_samples_leaf=4, min_samples_split=5,\n",
       "                       n_estimators=210, n_jobs=-1)"
      ]
     },
     "execution_count": 197,
     "metadata": {},
     "output_type": "execute_result"
    }
   ],
   "source": [
    "rf_random_search.best_estimator_"
   ]
  },
  {
   "cell_type": "code",
   "execution_count": 167,
   "id": "980ba0c4",
   "metadata": {},
   "outputs": [
    {
     "data": {
      "text/plain": [
       "0.8400260830710403"
      ]
     },
     "execution_count": 167,
     "metadata": {},
     "output_type": "execute_result"
    }
   ],
   "source": [
    "rf_random_search.best_score_"
   ]
  },
  {
   "cell_type": "code",
   "execution_count": 168,
   "id": "627a376d",
   "metadata": {},
   "outputs": [
    {
     "name": "stdout",
     "output_type": "stream",
     "text": [
      "training accuracy with GridSearchCv:  0.8735795454545454\n",
      "testing accuracy with GridSearchCv:  0.8409335175802242\n"
     ]
    }
   ],
   "source": [
    "#checking accuracies with best params\n",
    "print('training accuracy with GridSearchCv: ',rf_random_search.score(x_train,y_train))\n",
    "print('testing accuracy with GridSearchCv: ',rf_random_search.score(x_test,y_test))"
   ]
  },
  {
   "cell_type": "markdown",
   "id": "3b98a018",
   "metadata": {},
   "source": [
    "### Prediction after hyperparameter tuning(model with randome search)"
   ]
  },
  {
   "cell_type": "code",
   "execution_count": 173,
   "id": "12265d42",
   "metadata": {},
   "outputs": [],
   "source": [
    "y_pred_rf_randomsearch=rf_random_search.predict(x_test)"
   ]
  },
  {
   "cell_type": "code",
   "execution_count": 174,
   "id": "80c8e129",
   "metadata": {},
   "outputs": [
    {
     "data": {
      "text/plain": [
       "array([0, 0, 0, ..., 1, 0, 0])"
      ]
     },
     "execution_count": 174,
     "metadata": {},
     "output_type": "execute_result"
    }
   ],
   "source": [
    "y_pred_rf_randomsearch"
   ]
  },
  {
   "cell_type": "code",
   "execution_count": 175,
   "id": "fbd26bc3",
   "metadata": {},
   "outputs": [
    {
     "name": "stdout",
     "output_type": "stream",
     "text": [
      "Training Accuracy : 0.8735795454545454\n",
      "Testing Accuracy : 0.8409335175802242\n",
      "ROC AUC Score : 0.7956554875332207\n",
      "****************************************************************************************************\n",
      "[[4548  676]\n",
      " [ 360  929]]\n",
      "****************************************************************************************************\n",
      "              precision    recall  f1-score   support\n",
      "\n",
      "           0       0.93      0.87      0.90      5224\n",
      "           1       0.58      0.72      0.64      1289\n",
      "\n",
      "    accuracy                           0.84      6513\n",
      "   macro avg       0.75      0.80      0.77      6513\n",
      "weighted avg       0.86      0.84      0.85      6513\n",
      "\n"
     ]
    }
   ],
   "source": [
    "# evaluating the RandomeForest model\n",
    "print(\"Training Accuracy :\", rf_random_search.score(x_train, y_train))\n",
    "print(\"Testing Accuracy :\", rf_random_search.score(x_test, y_test))\n",
    "print(\"ROC AUC Score :\", roc_auc_score(y_pred_rf_randomsearch,y_test))\n",
    "print('*'*100)\n",
    "print(confusion_matrix(y_pred_rf_randomsearch,y_test))\n",
    "print('*'*100)\n",
    "print(classification_report(y_pred_rf_randomsearch,y_test))"
   ]
  },
  {
   "cell_type": "code",
   "execution_count": 235,
   "id": "10604c03",
   "metadata": {},
   "outputs": [
    {
     "name": "stdout",
     "output_type": "stream",
     "text": [
      "fpr : [0.         0.07334963 1.        ]\n",
      "tpr : [0.        0.5788162 1.       ]\n",
      "threshold : [2 1 0]\n"
     ]
    }
   ],
   "source": [
    "fpr,tpr,threshold=roc_curve(y_test,y_pred_rf_randomsearch)\n",
    "print(\"fpr :\",fpr)\n",
    "print(\"tpr :\",tpr)\n",
    "print(\"threshold :\",threshold)"
   ]
  },
  {
   "cell_type": "code",
   "execution_count": 236,
   "id": "219706f8",
   "metadata": {},
   "outputs": [
    {
     "data": {
      "text/plain": [
       "0.7527332830625567"
      ]
     },
     "execution_count": 236,
     "metadata": {},
     "output_type": "execute_result"
    }
   ],
   "source": [
    "#goodness of random forest model\n",
    "roc_auc=auc(fpr,tpr)\n",
    "roc_auc"
   ]
  },
  {
   "cell_type": "markdown",
   "id": "1fc01a1b",
   "metadata": {},
   "source": [
    "# Using xgboost model"
   ]
  },
  {
   "cell_type": "code",
   "execution_count": 176,
   "id": "9c6cecdc",
   "metadata": {},
   "outputs": [
    {
     "data": {
      "text/plain": [
       "XGBClassifier(base_score=0.5, booster='gbtree', callbacks=None,\n",
       "              colsample_bylevel=1, colsample_bynode=1, colsample_bytree=1,\n",
       "              early_stopping_rounds=None, enable_categorical=False,\n",
       "              eval_metric=None, feature_types=None, gamma=0, gpu_id=-1,\n",
       "              grow_policy='depthwise', importance_type=None,\n",
       "              interaction_constraints='', learning_rate=0.300000012,\n",
       "              max_bin=256, max_cat_threshold=64, max_cat_to_onehot=4,\n",
       "              max_delta_step=0, max_depth=6, max_leaves=0, min_child_weight=1,\n",
       "              missing=nan, monotone_constraints='()', n_estimators=100,\n",
       "              n_jobs=0, num_parallel_tree=1, predictor='auto', random_state=0, ...)"
      ]
     },
     "execution_count": 176,
     "metadata": {},
     "output_type": "execute_result"
    }
   ],
   "source": [
    "xgb=XGBClassifier()\n",
    "xgb.fit(x_train,y_train)"
   ]
  },
  {
   "cell_type": "code",
   "execution_count": 177,
   "id": "e24c06cc",
   "metadata": {},
   "outputs": [],
   "source": [
    "y_pred_xgb=xgb.predict(x_test)"
   ]
  },
  {
   "cell_type": "code",
   "execution_count": 178,
   "id": "3e656aad",
   "metadata": {},
   "outputs": [
    {
     "data": {
      "text/plain": [
       "array([0, 0, 0, ..., 1, 0, 0])"
      ]
     },
     "execution_count": 178,
     "metadata": {},
     "output_type": "execute_result"
    }
   ],
   "source": [
    "y_pred_xgb"
   ]
  },
  {
   "cell_type": "code",
   "execution_count": 179,
   "id": "73577870",
   "metadata": {},
   "outputs": [
    {
     "name": "stdout",
     "output_type": "stream",
     "text": [
      "Training Accuracy : 0.8935042997542998\n",
      "Testing Accuracy : 0.8343313373253493\n",
      "ROC AUC Score : 0.7805596883875411\n",
      "****************************************************************************************************\n",
      "[[4461  632]\n",
      " [ 447  973]]\n",
      "****************************************************************************************************\n",
      "              precision    recall  f1-score   support\n",
      "\n",
      "           0       0.91      0.88      0.89      5093\n",
      "           1       0.61      0.69      0.64      1420\n",
      "\n",
      "    accuracy                           0.83      6513\n",
      "   macro avg       0.76      0.78      0.77      6513\n",
      "weighted avg       0.84      0.83      0.84      6513\n",
      "\n"
     ]
    }
   ],
   "source": [
    "# evaluating the XGBClassifier model\n",
    "print(\"Training Accuracy :\", xgb.score(x_train, y_train))\n",
    "print(\"Testing Accuracy :\", xgb.score(x_test, y_test))\n",
    "print(\"ROC AUC Score :\", roc_auc_score(y_pred_xgb,y_test))\n",
    "print('*'*100)\n",
    "print(confusion_matrix(y_pred_xgb,y_test))\n",
    "print('*'*100)\n",
    "print(classification_report(y_pred_xgb,y_test))"
   ]
  },
  {
   "cell_type": "code",
   "execution_count": 239,
   "id": "b18ff7b0",
   "metadata": {},
   "outputs": [
    {
     "name": "stdout",
     "output_type": "stream",
     "text": [
      "fpr : [0.         0.09107579 1.        ]\n",
      "tpr : [0.         0.60623053 1.        ]\n",
      "threshold : [2 1 0]\n"
     ]
    }
   ],
   "source": [
    "fpr,tpr,threshold=roc_curve(y_test,y_pred_xgb)\n",
    "print(\"fpr :\",fpr)\n",
    "print(\"tpr :\",tpr)\n",
    "print(\"threshold :\",threshold)"
   ]
  },
  {
   "cell_type": "code",
   "execution_count": 240,
   "id": "f8655f88",
   "metadata": {},
   "outputs": [
    {
     "data": {
      "text/plain": [
       "0.7575773674869942"
      ]
     },
     "execution_count": 240,
     "metadata": {},
     "output_type": "execute_result"
    }
   ],
   "source": [
    "#goodness of random forest model\n",
    "roc_auc=auc(fpr,tpr)\n",
    "roc_auc"
   ]
  },
  {
   "cell_type": "markdown",
   "id": "adf27dc0",
   "metadata": {},
   "source": [
    "### Hyperparameter Tunning using GridSearchCV of XgBoost model"
   ]
  },
  {
   "cell_type": "code",
   "execution_count": 181,
   "id": "82325bc0",
   "metadata": {},
   "outputs": [
    {
     "data": {
      "text/plain": [
       "{'objective': 'binary:logistic',\n",
       " 'use_label_encoder': None,\n",
       " 'base_score': None,\n",
       " 'booster': None,\n",
       " 'callbacks': None,\n",
       " 'colsample_bylevel': None,\n",
       " 'colsample_bynode': None,\n",
       " 'colsample_bytree': None,\n",
       " 'early_stopping_rounds': None,\n",
       " 'enable_categorical': False,\n",
       " 'eval_metric': None,\n",
       " 'feature_types': None,\n",
       " 'gamma': None,\n",
       " 'gpu_id': None,\n",
       " 'grow_policy': None,\n",
       " 'importance_type': None,\n",
       " 'interaction_constraints': None,\n",
       " 'learning_rate': None,\n",
       " 'max_bin': None,\n",
       " 'max_cat_threshold': None,\n",
       " 'max_cat_to_onehot': None,\n",
       " 'max_delta_step': None,\n",
       " 'max_depth': None,\n",
       " 'max_leaves': None,\n",
       " 'min_child_weight': None,\n",
       " 'missing': nan,\n",
       " 'monotone_constraints': None,\n",
       " 'n_estimators': 100,\n",
       " 'n_jobs': None,\n",
       " 'num_parallel_tree': None,\n",
       " 'predictor': None,\n",
       " 'random_state': None,\n",
       " 'reg_alpha': None,\n",
       " 'reg_lambda': None,\n",
       " 'sampling_method': None,\n",
       " 'scale_pos_weight': None,\n",
       " 'subsample': None,\n",
       " 'tree_method': None,\n",
       " 'validate_parameters': None,\n",
       " 'verbosity': None}"
      ]
     },
     "execution_count": 181,
     "metadata": {},
     "output_type": "execute_result"
    }
   ],
   "source": [
    "XGBClassifier().get_params()"
   ]
  },
  {
   "cell_type": "code",
   "execution_count": 211,
   "id": "825397ad",
   "metadata": {},
   "outputs": [],
   "source": [
    "params={'learning_rate':[0.15,0.20],\n",
    "      'n_estimators': [100,120],\n",
    "      'min_child_weight':[1,3,5],\n",
    "      'max_depth': [3,4,5],\n",
    "      'gamma': [0.2,0.3,0.4],\n",
    "      'colsample_bytree': [0.3,0.4,0.5]\n",
    "       }"
   ]
  },
  {
   "cell_type": "code",
   "execution_count": 212,
   "id": "045cf0c7",
   "metadata": {},
   "outputs": [],
   "source": [
    "xgb_grid=GridSearchCV(estimator=xgb,param_grid=params,scoring=None,cv=3,verbose=1,return_train_score=True,n_jobs=-1)"
   ]
  },
  {
   "cell_type": "code",
   "execution_count": 213,
   "id": "93a5f346",
   "metadata": {},
   "outputs": [
    {
     "name": "stdout",
     "output_type": "stream",
     "text": [
      "Fitting 3 folds for each of 324 candidates, totalling 972 fits\n"
     ]
    },
    {
     "data": {
      "text/plain": [
       "GridSearchCV(cv=3,\n",
       "             estimator=XGBClassifier(base_score=0.5, booster='gbtree',\n",
       "                                     callbacks=None, colsample_bylevel=1,\n",
       "                                     colsample_bynode=1, colsample_bytree=1,\n",
       "                                     early_stopping_rounds=None,\n",
       "                                     enable_categorical=False, eval_metric=None,\n",
       "                                     feature_types=None, gamma=0, gpu_id=-1,\n",
       "                                     grow_policy='depthwise',\n",
       "                                     importance_type=None,\n",
       "                                     interaction_constraints='',\n",
       "                                     learning_rate=0.300000012...\n",
       "                                     max_leaves=0, min_child_weight=1,\n",
       "                                     missing=nan, monotone_constraints='()',\n",
       "                                     n_estimators=100, n_jobs=0,\n",
       "                                     num_parallel_tree=1, predictor='auto',\n",
       "                                     random_state=0, ...),\n",
       "             n_jobs=-1,\n",
       "             param_grid={'colsample_bytree': [0.3, 0.4, 0.5],\n",
       "                         'gamma': [0.2, 0.3, 0.4], 'learning_rate': [0.15, 0.2],\n",
       "                         'max_depth': [3, 4, 5], 'min_child_weight': [1, 3, 5],\n",
       "                         'n_estimators': [100, 120]},\n",
       "             return_train_score=True, verbose=1)"
      ]
     },
     "execution_count": 213,
     "metadata": {},
     "output_type": "execute_result"
    }
   ],
   "source": [
    "xgb_grid.fit(x_train,y_train)"
   ]
  },
  {
   "cell_type": "code",
   "execution_count": 215,
   "id": "65af8334",
   "metadata": {},
   "outputs": [
    {
     "data": {
      "text/plain": [
       "XGBClassifier(base_score=0.5, booster='gbtree', callbacks=None,\n",
       "              colsample_bylevel=1, colsample_bynode=1, colsample_bytree=0.4,\n",
       "              early_stopping_rounds=None, enable_categorical=False,\n",
       "              eval_metric=None, feature_types=None, gamma=0.2, gpu_id=-1,\n",
       "              grow_policy='depthwise', importance_type=None,\n",
       "              interaction_constraints='', learning_rate=0.15, max_bin=256,\n",
       "              max_cat_threshold=64, max_cat_to_onehot=4, max_delta_step=0,\n",
       "              max_depth=3, max_leaves=0, min_child_weight=1, missing=nan,\n",
       "              monotone_constraints='()', n_estimators=120, n_jobs=0,\n",
       "              num_parallel_tree=1, predictor='auto', random_state=0, ...)"
      ]
     },
     "execution_count": 215,
     "metadata": {},
     "output_type": "execute_result"
    }
   ],
   "source": [
    "xgb_grid.best_estimator_"
   ]
  },
  {
   "cell_type": "code",
   "execution_count": 217,
   "id": "896c6e60",
   "metadata": {},
   "outputs": [
    {
     "data": {
      "text/plain": [
       "{'colsample_bytree': 0.4,\n",
       " 'gamma': 0.2,\n",
       " 'learning_rate': 0.15,\n",
       " 'max_depth': 3,\n",
       " 'min_child_weight': 1,\n",
       " 'n_estimators': 120}"
      ]
     },
     "execution_count": 217,
     "metadata": {},
     "output_type": "execute_result"
    }
   ],
   "source": [
    "xgb_grid.best_params_"
   ]
  },
  {
   "cell_type": "code",
   "execution_count": 216,
   "id": "184fcde0",
   "metadata": {},
   "outputs": [
    {
     "data": {
      "text/plain": [
       "0.8432893543204495"
      ]
     },
     "execution_count": 216,
     "metadata": {},
     "output_type": "execute_result"
    }
   ],
   "source": [
    "xgb_grid.best_score_"
   ]
  },
  {
   "cell_type": "code",
   "execution_count": 230,
   "id": "aef8837e",
   "metadata": {},
   "outputs": [
    {
     "data": {
      "text/plain": [
       "XGBClassifier(base_score=0.5, booster='gbtree', callbacks=None,\n",
       "              colsample_bylevel=1, colsample_bynode=1, colsample_bytree=0.4,\n",
       "              early_stopping_rounds=None, enable_categorical=False,\n",
       "              eval_metric=None, feature_types=None, gamma=0.2, gpu_id=-1,\n",
       "              grow_policy='depthwise', importance_type=None,\n",
       "              interaction_constraints='', learning_rate=0.15, max_bin=256,\n",
       "              max_cat_threshold=64, max_cat_to_onehot=4, max_delta_step=0,\n",
       "              max_depth=3, max_leaves=0, min_child_weight=1, missing=nan,\n",
       "              monotone_constraints='()', n_estimators=120, n_jobs=0,\n",
       "              num_parallel_tree=1, predictor='auto', random_state=0, ...)"
      ]
     },
     "execution_count": 230,
     "metadata": {},
     "output_type": "execute_result"
    }
   ],
   "source": [
    "xgb_grid.best_estimator_"
   ]
  },
  {
   "cell_type": "code",
   "execution_count": 227,
   "id": "0657a1b2",
   "metadata": {},
   "outputs": [],
   "source": [
    "score=cross_val_score(xgb_classif,x_train,y_train,cv=5)"
   ]
  },
  {
   "cell_type": "code",
   "execution_count": 228,
   "id": "ddb6a16f",
   "metadata": {},
   "outputs": [
    {
     "data": {
      "text/plain": [
       "array([0.83704415, 0.83761996, 0.84740883, 0.8539067 , 0.8406604 ])"
      ]
     },
     "execution_count": 228,
     "metadata": {},
     "output_type": "execute_result"
    }
   ],
   "source": [
    "score"
   ]
  },
  {
   "cell_type": "markdown",
   "id": "5ee8b0de",
   "metadata": {},
   "source": [
    "### model testing with xgboost with its best hyperparameters"
   ]
  },
  {
   "cell_type": "code",
   "execution_count": 222,
   "id": "e1c6b8bf",
   "metadata": {},
   "outputs": [],
   "source": [
    "xgb_classif=XGBClassifier(colsample_bytree=0.4,\n",
    "                          gamma= 0.2,\n",
    "                          learning_rate= 0.15,\n",
    "                          max_depth= 3,\n",
    "                          min_child_weight= 1,\n",
    "                          n_estimators= 120)"
   ]
  },
  {
   "cell_type": "code",
   "execution_count": 223,
   "id": "a247e8bb",
   "metadata": {},
   "outputs": [
    {
     "data": {
      "text/plain": [
       "XGBClassifier(base_score=0.5, booster='gbtree', callbacks=None,\n",
       "              colsample_bylevel=1, colsample_bynode=1, colsample_bytree=0.4,\n",
       "              early_stopping_rounds=None, enable_categorical=False,\n",
       "              eval_metric=None, feature_types=None, gamma=0.2, gpu_id=-1,\n",
       "              grow_policy='depthwise', importance_type=None,\n",
       "              interaction_constraints='', learning_rate=0.15, max_bin=256,\n",
       "              max_cat_threshold=64, max_cat_to_onehot=4, max_delta_step=0,\n",
       "              max_depth=3, max_leaves=0, min_child_weight=1, missing=nan,\n",
       "              monotone_constraints='()', n_estimators=120, n_jobs=0,\n",
       "              num_parallel_tree=1, predictor='auto', random_state=0, ...)"
      ]
     },
     "execution_count": 223,
     "metadata": {},
     "output_type": "execute_result"
    }
   ],
   "source": [
    "xgb_classif.fit(x_train,y_train)"
   ]
  },
  {
   "cell_type": "code",
   "execution_count": 224,
   "id": "b12817b3",
   "metadata": {},
   "outputs": [],
   "source": [
    "y_pred_xgbclassif_with_hp=xgb_classif.predict(x_test)"
   ]
  },
  {
   "cell_type": "code",
   "execution_count": 225,
   "id": "ce1e5779",
   "metadata": {},
   "outputs": [
    {
     "data": {
      "text/plain": [
       "array([0, 0, 0, ..., 1, 0, 0])"
      ]
     },
     "execution_count": 225,
     "metadata": {},
     "output_type": "execute_result"
    }
   ],
   "source": [
    "y_pred_xgbclassif_with_hp"
   ]
  },
  {
   "cell_type": "code",
   "execution_count": 226,
   "id": "9786f616",
   "metadata": {},
   "outputs": [
    {
     "name": "stdout",
     "output_type": "stream",
     "text": [
      "Training Accuracy : 0.8491630835380836\n",
      "Testing Accuracy : 0.8466144633809305\n",
      "ROC AUC Score : 0.8014090516149226\n",
      "****************************************************************************************************\n",
      "[[4535  626]\n",
      " [ 373  979]]\n",
      "****************************************************************************************************\n",
      "              precision    recall  f1-score   support\n",
      "\n",
      "           0       0.92      0.88      0.90      5161\n",
      "           1       0.61      0.72      0.66      1352\n",
      "\n",
      "    accuracy                           0.85      6513\n",
      "   macro avg       0.77      0.80      0.78      6513\n",
      "weighted avg       0.86      0.85      0.85      6513\n",
      "\n"
     ]
    }
   ],
   "source": [
    "# evaluating the XGBClassifier model\n",
    "print(\"Training Accuracy :\", xgb_classif.score(x_train, y_train))\n",
    "print(\"Testing Accuracy :\", xgb_classif.score(x_test, y_test))\n",
    "print(\"ROC AUC Score :\", roc_auc_score(y_pred_xgbclassif_with_hp,y_test))\n",
    "print('*'*100)\n",
    "print(confusion_matrix(y_pred_xgbclassif_with_hp,y_test))\n",
    "print('*'*100)\n",
    "print(classification_report(y_pred_xgbclassif_with_hp,y_test))"
   ]
  },
  {
   "cell_type": "code",
   "execution_count": 266,
   "id": "23a1596e",
   "metadata": {},
   "outputs": [
    {
     "ename": "AttributeError",
     "evalue": "'XGBClassifier' object has no attribute 'cv_results_'",
     "output_type": "error",
     "traceback": [
      "\u001b[1;31m---------------------------------------------------------------------------\u001b[0m",
      "\u001b[1;31mAttributeError\u001b[0m                            Traceback (most recent call last)",
      "\u001b[1;32m~\\AppData\\Local\\Temp\\ipykernel_2692\\2649008164.py\u001b[0m in \u001b[0;36m<module>\u001b[1;34m\u001b[0m\n\u001b[1;32m----> 1\u001b[1;33m \u001b[0mscore_rf\u001b[0m \u001b[1;33m=\u001b[0m \u001b[0mpd\u001b[0m\u001b[1;33m.\u001b[0m\u001b[0mDataFrame\u001b[0m\u001b[1;33m(\u001b[0m\u001b[0mxgb_classif\u001b[0m\u001b[1;33m.\u001b[0m\u001b[0mcv_results_\u001b[0m\u001b[1;33m)\u001b[0m\u001b[1;33m\u001b[0m\u001b[1;33m\u001b[0m\u001b[0m\n\u001b[0m\u001b[0;32m      2\u001b[0m \u001b[0mscore_rf\u001b[0m\u001b[1;33m.\u001b[0m\u001b[0mhead\u001b[0m\u001b[1;33m(\u001b[0m\u001b[1;33m)\u001b[0m\u001b[1;33m\u001b[0m\u001b[1;33m\u001b[0m\u001b[0m\n",
      "\u001b[1;31mAttributeError\u001b[0m: 'XGBClassifier' object has no attribute 'cv_results_'"
     ]
    }
   ],
   "source": []
  },
  {
   "cell_type": "code",
   "execution_count": 259,
   "id": "9c4cb4dc",
   "metadata": {},
   "outputs": [
    {
     "data": {
      "text/plain": [
       "array([0.16199471, 0.06992092, 0.2068548 , ..., 0.75179756, 0.43947798,\n",
       "       0.02253771], dtype=float32)"
      ]
     },
     "execution_count": 259,
     "metadata": {},
     "output_type": "execute_result"
    }
   ],
   "source": [
    "y_proba_1=xgb_classif.predict_proba(x_test)[:,1]\n",
    "y_proba_1"
   ]
  },
  {
   "cell_type": "code",
   "execution_count": 260,
   "id": "c5998239",
   "metadata": {},
   "outputs": [],
   "source": [
    "fpr,tpr,thresholds=roc_curve(y_test,y_proba_1)"
   ]
  },
  {
   "cell_type": "code",
   "execution_count": 262,
   "id": "ef0ab115",
   "metadata": {},
   "outputs": [
    {
     "data": {
      "text/plain": [
       "array([1.9543483e+00, 9.5434839e-01, 9.0349418e-01, ..., 3.2596153e-04,\n",
       "       3.2430567e-04, 2.5096847e-04], dtype=float32)"
      ]
     },
     "execution_count": 262,
     "metadata": {},
     "output_type": "execute_result"
    }
   ],
   "source": [
    "thresholds"
   ]
  },
  {
   "cell_type": "code",
   "execution_count": 231,
   "id": "1a5f460d",
   "metadata": {},
   "outputs": [],
   "source": [
    "score=cross_val_score(xgb_classif,x_train,y_train,cv=5)"
   ]
  },
  {
   "cell_type": "code",
   "execution_count": 232,
   "id": "6f2b3a57",
   "metadata": {},
   "outputs": [
    {
     "data": {
      "text/plain": [
       "array([0.83704415, 0.83761996, 0.84740883, 0.8539067 , 0.8406604 ])"
      ]
     },
     "execution_count": 232,
     "metadata": {},
     "output_type": "execute_result"
    }
   ],
   "source": [
    "score"
   ]
  },
  {
   "cell_type": "markdown",
   "id": "9e90dd5f",
   "metadata": {},
   "source": [
    "So Xgboost give consistently good score on 5 fold cross validation"
   ]
  },
  {
   "cell_type": "code",
   "execution_count": 245,
   "id": "b021f85b",
   "metadata": {},
   "outputs": [
    {
     "data": {
      "text/plain": [
       "0.7669852386719375"
      ]
     },
     "execution_count": 245,
     "metadata": {},
     "output_type": "execute_result"
    }
   ],
   "source": [
    "#goodness of random forest model\n",
    "roc_auc_score(y_test,y_pred_xgbclassif_with_hp)"
   ]
  },
  {
   "cell_type": "code",
   "execution_count": 263,
   "id": "32d204d3",
   "metadata": {},
   "outputs": [
    {
     "data": {
      "text/plain": [
       "0.8956495466743851"
      ]
     },
     "execution_count": 263,
     "metadata": {},
     "output_type": "execute_result"
    }
   ],
   "source": [
    "roc_auc_score(y_test,y_proba_1)"
   ]
  },
  {
   "cell_type": "markdown",
   "id": "5db9f8c1",
   "metadata": {},
   "source": [
    "### Among Randome forest and XgBoost ,XgBoost model is giving best results."
   ]
  },
  {
   "cell_type": "markdown",
   "id": "0a8e205e",
   "metadata": {},
   "source": [
    "# So We will choose XgBoost as our final model"
   ]
  },
  {
   "cell_type": "code",
   "execution_count": null,
   "id": "df7782ae",
   "metadata": {},
   "outputs": [],
   "source": []
  },
  {
   "cell_type": "code",
   "execution_count": null,
   "id": "606ac121",
   "metadata": {},
   "outputs": [],
   "source": []
  }
 ],
 "metadata": {
  "kernelspec": {
   "display_name": "Python 3 (ipykernel)",
   "language": "python",
   "name": "python3"
  },
  "language_info": {
   "codemirror_mode": {
    "name": "ipython",
    "version": 3
   },
   "file_extension": ".py",
   "mimetype": "text/x-python",
   "name": "python",
   "nbconvert_exporter": "python",
   "pygments_lexer": "ipython3",
   "version": "3.9.13"
  }
 },
 "nbformat": 4,
 "nbformat_minor": 5
}
